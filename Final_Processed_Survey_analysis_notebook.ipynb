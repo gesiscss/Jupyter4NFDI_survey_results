{
 "cells": [
  {
   "cell_type": "raw",
   "id": "132a1231",
   "metadata": {},
   "source": [
    "---\n",
    "title: \"Jupyter4NFDI - Survey Study Analysis\"\n",
    "author: \"Julian Kohne\"\n",
    "date: \"2025-01-26\"\n",
    "output:\n",
    "  html_document:\n",
    "    self_contained: true\n",
    "---"
   ]
  },
  {
   "cell_type": "markdown",
   "id": "0a0a49dd",
   "metadata": {},
   "source": [
    "# Installing Packages"
   ]
  },
  {
   "cell_type": "code",
   "execution_count": null,
   "id": "bf779f34",
   "metadata": {
    "message": false,
    "name": "loading packages",
    "tags": [
     "remove_output"
    ],
    "warning": false
   },
   "outputs": [],
   "source": [
    "invisible(capture.output({\n",
    "# options\n",
    "knitr::opts_chunk$set(echo = TRUE)\n",
    "knitr::opts_chunk$set(fig.align = \"center\")\n",
    "\n",
    "# packages\n",
    "packages <- c(\"ggplot2\", \"finalfit\", \"leaflet\", \"tidygeocoder\", \n",
    "              \"tidyr\", \"httr\", \"xml2\", \"qdapRegex\", \"knitr\", \"htmltools\",\"dplyr\",\"networkD3\")\n",
    "\n",
    "invisible(\n",
    "  lapply(packages, function(pkg) {\n",
    "    suppressPackageStartupMessages(\n",
    "      suppressWarnings(\n",
    "        library(pkg, character.only = TRUE)\n",
    "      )\n",
    "    )\n",
    "  })\n",
    ")\n",
    "\n",
    "\n",
    "}))\n"
   ]
  },
  {
   "cell_type": "markdown",
   "id": "78f466e0",
   "metadata": {},
   "source": [
    "# Importing Data"
   ]
  },
  {
   "cell_type": "code",
   "execution_count": null,
   "id": "3565ce33",
   "metadata": {
    "name": "importing data"
   },
   "outputs": [],
   "source": [
    "#importing data\n",
    "data <- readRDS(\"data_cleaned.rds\")"
   ]
  },
  {
   "cell_type": "code",
   "execution_count": null,
   "id": "2297922d",
   "metadata": {},
   "outputs": [],
   "source": [
    "# Set the path to your .lss file\n",
    "file_path <- \"limesurvey_survey_882875.lss\"\n",
    "\n",
    "# Read and strip namespaces for easier processing\n",
    "doc <- read_xml(file_path)\n",
    "doc_no_ns <- xml_ns_strip(doc)\n",
    "\n",
    "# --- Extract Question Information from <questions> ---\n",
    "q_rows <- xml_find_all(doc_no_ns, \"//document/questions/rows/row\")\n",
    "\n",
    "question_info <- data.frame(\n",
    "  qid = sapply(q_rows, function(row) xml_text(xml_find_first(row, \"qid\"))),\n",
    "  gid = sapply(q_rows, function(row) xml_text(xml_find_first(row, \"gid\"))),\n",
    "  title = sapply(q_rows, function(row) xml_text(xml_find_first(row, \"title\"))),\n",
    "  question_order = sapply(q_rows, function(row) xml_text(xml_find_first(row, \"question_order\"))),\n",
    "  relevance = sapply(q_rows, function(row) {\n",
    "    node <- xml_find_first(row, \"relevance\")\n",
    "    if (!is.na(node)) xml_text(node) else \"\"\n",
    "  }),\n",
    "  stringsAsFactors = FALSE\n",
    ")\n",
    "\n",
    "question_info$question_order <- as.numeric(question_info$question_order)\n",
    "\n",
    "# --- Extract Group Information from <groups> ---\n",
    "group_rows <- xml_find_all(doc_no_ns, \"//document/groups/rows/row\")\n",
    "\n",
    "group_info <- data.frame(\n",
    "  gid = sapply(group_rows, function(row) xml_text(xml_find_first(row, \"gid\"))),\n",
    "  group_title = sapply(group_rows, function(row) xml_text(xml_find_first(row, \"group_name\"))),\n",
    "  group_order = sapply(group_rows, function(row) xml_text(xml_find_first(row, \"group_order\"))),\n",
    "  randomization_group = sapply(group_rows, function(row) {\n",
    "    node <- xml_find_first(row, \"randomization_group\")\n",
    "    if (!is.na(node)) xml_text(node) else \"\"\n",
    "  }),\n",
    "  stringsAsFactors = FALSE\n",
    ")\n",
    "\n",
    "group_info$group_order <- as.numeric(group_info$group_order)\n",
    "\n",
    "#Merge Group Info into Question Info\n",
    "question_info <- left_join(question_info, group_info %>% select(gid, group_order), by = \"gid\")\n",
    "question_info <- question_info %>%\n",
    "  mutate(global_order = group_order * 1000 + question_order) %>%\n",
    "  arrange(global_order)\n",
    "\n",
    "# Extract Question Texts from <question_l10ns>\n",
    "# In LimeSurvey exports, the localized question texts are stored under <question_l10ns>\n",
    "ql10n_rows <- xml_find_all(doc_no_ns, \"//document/question_l10ns/rows/row\")\n",
    "\n",
    "question_text_df <- data.frame(\n",
    "  qid = sapply(ql10n_rows, function(row) xml_text(xml_find_first(row, \"qid\"))),\n",
    "  question_text = sapply(ql10n_rows, function(row) xml_text(xml_find_first(row, \"question\"))),\n",
    "  stringsAsFactors = FALSE\n",
    ")\n",
    "\n",
    "#Merge the Question Texts into question_info\n",
    "question_info <- left_join(question_info, question_text_df, by = \"qid\")\n",
    "\n",
    "# Helper function to strip HTML tags from a string\n",
    "clean_html <- function(html_str) {\n",
    "  if (html_str == \"\") return(\"\")\n",
    "  # Wrap the HTML string in a container\n",
    "  doc <- read_html(paste0(\"<div>\", html_str, \"</div>\"))\n",
    "  # Extract and return the plain text\n",
    "  xml_text(xml_find_first(doc, \"//div\"))\n",
    "}\n",
    "\n",
    "# Apply the clean_html function to each question_text\n",
    "question_info$question_text <- sapply(question_info$question_text, clean_html)\n"
   ]
  },
  {
   "cell_type": "markdown",
   "id": "5d499c86",
   "metadata": {},
   "source": [
    "# Dataset Overview"
   ]
  },
  {
   "cell_type": "code",
   "execution_count": null,
   "id": "3912ea0c",
   "metadata": {
    "message": false,
    "name": "dataset overview",
    "tags": [
     "remove_output"
    ],
    "warning": false
   },
   "outputs": [],
   "source": [
    "invisible(capture.output({\n",
    "summary(data)\n",
    "}))"
   ]
  },
  {
   "cell_type": "markdown",
   "id": "f683b647",
   "metadata": {},
   "source": [
    "# Checking Missing Data"
   ]
  },
  {
   "cell_type": "code",
   "execution_count": null,
   "id": "d206a87e",
   "metadata": {
    "fig.height": 20,
    "fig.width": 15,
    "name": "missing data"
   },
   "outputs": [],
   "source": [
    "#| fig-align: center\n",
    "options(repr.plot.width = 15)\n",
    "options(repr.plot.height = 20)\n",
    "data_ordered <- data[order(colSums(is.na(data))), ]\n",
    "missing_plot(data_ordered)"
   ]
  },
  {
   "cell_type": "code",
   "execution_count": null,
   "id": "b681f554",
   "metadata": {},
   "outputs": [],
   "source": [
    "# resetting plotting options\n",
    "options(repr.plot.width = 15)\n",
    "options(repr.plot.height = 12)\n",
    "options(repr.plot.align = 'center')"
   ]
  },
  {
   "cell_type": "markdown",
   "id": "46206c93",
   "metadata": {},
   "source": [
    "# Survey Flow"
   ]
  },
  {
   "cell_type": "code",
   "execution_count": null,
   "id": "1034b1fd",
   "metadata": {},
   "outputs": [],
   "source": [
    "\n",
    "# A8\n",
    "#table(data$Q50_desc,useNA = \"always\")\n",
    "\n",
    "# D2\n",
    "#table(data$IaaS.cloud.cluster_yes, useNA = \"always\")\n",
    "\n",
    "# D4\n",
    "#table(data$use_jupyterhub_or_similar, useNA = \"always\")\n",
    "\n",
    "# D8 v D4\n",
    "#table(data$willing_to_connect_resources_to_jupyterhub,\n",
    "#      data$use_jupyterhub_or_similar,\n",
    "#      useNA = \"always\")\n",
    "\n",
    "# E4\n",
    "#table(data$have_dedicated_partners,useNA = \"always\")\n",
    "\n",
    "# F6\n",
    "#table(data$external_data_access,useNA = \"always\")\n",
    "\n",
    "# F9\n",
    "#table(data$offer_software_service_through_platform,useNA = \"always\")\n",
    "\n",
    "# A connection data frame is a list of flows with intensity for each flow\n",
    "links <- data.frame(\n",
    "  \n",
    "  source = c(\"All Participants\",\n",
    "             \"All Participants\",\n",
    "             \"All Participants\",\n",
    "             \"All Participants\",\n",
    "             \"All Participants\",\n",
    "             \"All Participants\",\n",
    "             \"Resource Provider\",\n",
    "             \"Resource Provider\",\n",
    "             \"Own IaaS Cluster\",\n",
    "             \"No IaaS Cluster\",\n",
    "             \"Resource Provider\",\n",
    "             \"Res. Prov\",\n",
    "             \"Res. Prov\",\n",
    "             \"Res. Prov\",\n",
    "             \"JupyterHub\",\n",
    "             \"JupyterHub\",\n",
    "             \"No\",\n",
    "             \"No\",\n",
    "             \"Similar service\",\n",
    "             \"Representative\",\n",
    "             \"Representative\",\n",
    "             \"Representative\",\n",
    "             \"User\",\n",
    "             \"User\",\n",
    "             \"User\",\n",
    "             \"I dont know yet\",\n",
    "             \"I dont know yet\",\n",
    "             \"I dont know yet\",\n",
    "             \"No.\",\n",
    "             \"No.\",\n",
    "             \"No.\",\n",
    "             \"Yes.\",\n",
    "             \"Yes.\",\n",
    "             \"Yes.\",\n",
    "             \"No \",\n",
    "             \"Yes, but only for \\n a specified group of users\",\n",
    "             \"I dont know yet \",\n",
    "             \" No \",\n",
    "             \" Yes \",\n",
    "             \"Other\",\n",
    "             \"Manager\",\n",
    "             \"I don't know\",\n",
    "             \" No\",\n",
    "             \"Yes \"), \n",
    "  \n",
    "  target = c(\"Other\",\n",
    "             \"Manager\",\n",
    "             \"Resource Provider\",\n",
    "             \"User\",\n",
    "             \"NA\",\n",
    "             \"Representative\",\n",
    "             \"Own IaaS Cluster\",\n",
    "             \"No IaaS Cluster\",\n",
    "             \"Res. Prov\",\n",
    "             \"Res. Prov\",\n",
    "             \"Res. Prov\",\n",
    "             \"JupyterHub\",\n",
    "             \"No\",\n",
    "             \"Similar service\",\n",
    "             \"No \",\n",
    "             \"Yes, but only for \\n a specified group of users\",\n",
    "             \"No \",\n",
    "             \"Yes, but only for \\n a specified group of users\",\n",
    "             \"No \",\n",
    "             \"I don't know\",\n",
    "             \" No\",\n",
    "             \"Yes \",\n",
    "             \"I dont know yet\",\n",
    "             \"No.\",\n",
    "             \"Yes.\",\n",
    "             \"I dont know yet \",\n",
    "             \" No \",\n",
    "             \" Yes \",\n",
    "             \"I dont know yet \",\n",
    "             \" No \",\n",
    "             \" Yes \",\n",
    "             \"I dont know yet \",\n",
    "             \" No \",\n",
    "             \" Yes \",\n",
    "             \"All Ppts.\",\n",
    "             \"All Ppts.\",\n",
    "             \"All Ppts.\",\n",
    "             \"All Ppts.\",\n",
    "             \"All Ppts.\",\n",
    "             \"All Ppts.\",\n",
    "             \"All Ppts.\",\n",
    "             \"All Ppts.\",\n",
    "             \"All Ppts.\",\n",
    "             \"All Ppts.\"), \n",
    "  \n",
    "  value = c(3,\n",
    "            10,\n",
    "            17,\n",
    "            38,\n",
    "            7,\n",
    "            10,\n",
    "            7,\n",
    "            8,\n",
    "            7,\n",
    "            8,\n",
    "            2,\n",
    "            8,\n",
    "            5,\n",
    "            2,\n",
    "            5,\n",
    "            3,\n",
    "            4,\n",
    "            1,\n",
    "            2,\n",
    "            1,\n",
    "            4,\n",
    "            4,\n",
    "            8,\n",
    "            3,\n",
    "            27,\n",
    "            5,\n",
    "            2,\n",
    "            1,\n",
    "            1,\n",
    "            1,\n",
    "            1,\n",
    "            12,\n",
    "            8,\n",
    "            7,\n",
    "            11,\n",
    "            4,\n",
    "            18,\n",
    "            11,\n",
    "            9,\n",
    "            3,\n",
    "            10,\n",
    "            1,\n",
    "            4,\n",
    "            4)\n",
    "  )\n",
    " \n",
    "# From these flows we need to create a node data frame: it lists every entities involved in the flow\n",
    "nodes <- data.frame(\n",
    "  name = c(as.character(links$source), \n",
    "  as.character(links$target)) %>% unique()\n",
    ")\n",
    " \n",
    "# With networkD3, connection must be provided using id, not using real name like in the links dataframe.. So we need to reformat it.\n",
    "links$IDsource <- match(links$source, nodes$name) - 1 \n",
    "links$IDtarget <- match(links$target, nodes$name) - 1\n",
    " \n",
    "# Make the Network\n",
    "p <- sankeyNetwork(Links = links, Nodes = nodes,\n",
    "              Source = \"IDsource\", Target = \"IDtarget\",\n",
    "              Value = \"value\", NodeID = \"name\", \n",
    "              sinksRight = FALSE)\n",
    "p\n"
   ]
  },
  {
   "cell_type": "markdown",
   "id": "e56e42d9",
   "metadata": {},
   "source": [
    "# Survey Submission Timeline\n",
    "\n",
    "## Survey Duration"
   ]
  },
  {
   "cell_type": "code",
   "execution_count": null,
   "id": "dc14e0c3",
   "metadata": {
    "fig.height": 12,
    "fig.width": 15
   },
   "outputs": [],
   "source": [
    "#| fig-align: center\n",
    "\n",
    "# Reshape data for lollipop plot\n",
    "data_long <- data %>%\n",
    "  tidyr::pivot_longer(cols = c(\"started\", \"last_action\"), \n",
    "                      names_to = \"DateType\", \n",
    "                      values_to = \"Date\")\n",
    "\n",
    "# Create the lollipop plot\n",
    "ggplot(data_long, aes(x = as.Date(Date), y = id, group = id)) +\n",
    "  geom_line(aes(color = id), linewidth = 1) + # Line connecting start and end\n",
    "  geom_point(aes(color = id), size = 3) + # Dots at start and end\n",
    "  labs(\n",
    "    title = \"Lollipop Plot of Start and End Dates\",\n",
    "    x = \"Date\",\n",
    "    y = \"Person\"\n",
    "  ) +\n",
    "  theme_minimal() +\n",
    "  scale_x_date(date_breaks = \"1 week\", date_labels = \"%Y-%m-%d\") +\n",
    "  theme(\n",
    "    legend.position = \"none\", \n",
    "    axis.text.x = element_text(angle = 90, hjust = 0.5) # Vertical y-axis labels\n",
    "  )\n"
   ]
  },
  {
   "cell_type": "markdown",
   "id": "57a7109f",
   "metadata": {},
   "source": [
    "## Survey Duration"
   ]
  },
  {
   "cell_type": "code",
   "execution_count": null,
   "id": "b2de9f7a",
   "metadata": {
    "echo": true,
    "name": "summary-table-duration"
   },
   "outputs": [],
   "source": [
    "# Calculate summary statistics\n",
    "summary_stats <- summary(data$total_time)\n",
    "\n",
    "# Convert the summary vector into a data frame\n",
    "summary_df <- data.frame(\n",
    "  Statistic = names(summary_stats),\n",
    "  Value = as.numeric(summary_stats)\n",
    ")\n",
    "\n",
    "summary_df\n"
   ]
  },
  {
   "cell_type": "code",
   "execution_count": null,
   "id": "3f9f55d1",
   "metadata": {
    "fig.height": 12,
    "fig.width": 15
   },
   "outputs": [],
   "source": [
    "#| fig-align: center\n",
    "# plot\n",
    "ggplot(data, aes(x = \"Violin\", y = (total_time/60))) +\n",
    "  geom_violin(aes(x = \"Violin\"), fill = \"skyblue\", color = \"black\", width = 0.7) + # Violin\n",
    "  geom_boxplot(aes(x = \"Boxplot\"), fill = \"skyblue\", color = \"black\", width = 0.5) + # Boxplot\n",
    "  labs(\n",
    "    title = \"Violin Plot and Boxplot for Survey Duration\",\n",
    "    x = \"\",\n",
    "    y = \"Time taken to answer survey (in minutes)\"\n",
    "  ) +\n",
    "  stat_summary(\n",
    "    aes(x = \"Violin\"), fun = \"mean\", geom = \"point\", \n",
    "    shape = 2, size = 3, color = \"red\"\n",
    "  ) +\n",
    "  stat_summary(\n",
    "    aes(x = \"Boxplot\"), fun = \"mean\", geom = \"point\", \n",
    "    shape = 2, size = 3, color = \"red\"\n",
    "  ) +# Mean point for violin\n",
    "  theme_classic()\n"
   ]
  },
  {
   "cell_type": "markdown",
   "id": "091b1ad1",
   "metadata": {},
   "source": [
    "# Respondent Locations"
   ]
  },
  {
   "cell_type": "code",
   "execution_count": null,
   "id": "a3b41cd6",
   "metadata": {
    "message": false,
    "name": "location preprocessing",
    "tags": [
     "remove_output"
    ],
    "warning": false
   },
   "outputs": [],
   "source": [
    "invisible(capture.output({\n",
    "locations <- cbind.data.frame(\n",
    "  Location = data$org_normalized\n",
    ")\n",
    "\n",
    "orgs_with_coords <- locations %>%\n",
    "  geocode(address = Location, method = \"osm\")\n",
    "\n",
    "# annotating rest manually\n",
    "orgs_with_coords[is.na(orgs_with_coords$lat),]\n",
    "# 1: 51.3828129,7.0210535\n",
    "# 2: 51.2245443,6.8787735\n",
    "# 3: 49.4095924,8.6874174\n",
    "# 4: 51.6615575,7.3115184\n",
    "# 5: 50.4550671,7.1179205\n",
    "# 6: 51.7737587,11.1448831\n",
    "# 7: 51.3432367,10.5987757\n",
    "# 8: 51.3530789,10.7609292\n",
    "# 9: NA\n",
    "# 10: 49.7462132,9.9532957\n",
    "# 11: 51.3530789,10.7609292\n",
    "# 12: NA\n",
    "# 13: 49.4242064,7.4497604\n",
    "\n",
    "orgs_with_coords[is.na(orgs_with_coords$lat),]$lat <- c(51.3828129,\n",
    "                                                        51.2245443,\n",
    "                                                        49.4095924,\n",
    "                                                        51.6615575,\n",
    "                                                        50.4550671,\n",
    "                                                        51.7737587,\n",
    "                                                        51.3432367,\n",
    "                                                        51.3530789,\n",
    "                                                        NA,\n",
    "                                                        49.7462132,\n",
    "                                                        51.3530789,\n",
    "                                                        NA,\n",
    "                                                        49.4242064,\n",
    "                                                        NA,\n",
    "                                                        NA,\n",
    "                                                        NA,\n",
    "                                                        NA,\n",
    "                                                        NA,\n",
    "                                                        NA,\n",
    "                                                        NA\n",
    "                                                        )\n",
    "\n",
    "orgs_with_coords[is.na(orgs_with_coords$long),]$long <- c(7.0210535,\n",
    "                                                        6.8787735,\n",
    "                                                        8.6874174,\n",
    "                                                        7.3115184,\n",
    "                                                        7.1179205,\n",
    "                                                        11.1448831,\n",
    "                                                        10.5987757,\n",
    "                                                        10.7609292,\n",
    "                                                        NA,\n",
    "                                                        9.9532957,\n",
    "                                                        10.7609292,\n",
    "                                                        NA,\n",
    "                                                        7.4497604,\n",
    "                                                        NA,\n",
    "                                                        NA,\n",
    "                                                        NA,\n",
    "                                                        NA,\n",
    "                                                        NA,\n",
    "                                                        NA,\n",
    "                                                        NA\n",
    ")\n",
    "\n",
    "# removing empties\n",
    "orgs_with_coords <- orgs_with_coords[!is.na(orgs_with_coords$lat),]\n",
    "\n",
    "# fixing wrong ones manually\n",
    "# 12: Kassel\n",
    "# 23: EMBL Hamburg\n",
    "# 35: FLI Institute\n",
    "# 42: Leibniz Institut for Astrophicsis Potsdam\n",
    "orgs_with_coords[12,2:3] <- list(51.3147254,9.479618)\n",
    "orgs_with_coords[23,2:3] <- list(53.578086,9.8802713)\n",
    "orgs_with_coords[35,2:3] <- list(52.5195955,8.7884747)\n",
    "orgs_with_coords[42,2:3] <- list(52.4044516,13.1014999)\n",
    "\n",
    "}))"
   ]
  },
  {
   "cell_type": "code",
   "execution_count": null,
   "id": "9f9cbe5f",
   "metadata": {
    "name": "location plotting"
   },
   "outputs": [],
   "source": [
    "#| fig-align: center\n",
    "# making interactive map\n",
    "inst_map <- leaflet(orgs_with_coords) %>%\n",
    "  addTiles() %>%\n",
    "  addCircles(\n",
    "    ~long, ~lat,\n",
    "    popup = ~Location,\n",
    "    radius = 10,\n",
    "    color = \"red\", fill = TRUE, fillOpacity = 0.5\n",
    "  )\n"
   ]
  },
  {
   "cell_type": "code",
   "execution_count": null,
   "id": "e34b71b7",
   "metadata": {
    "results": "asis",
    "tags": [
     "remove_input"
    ]
   },
   "outputs": [],
   "source": [
    "\n",
    "htmltools::div(\n",
    "  style = \"width: 90%; margin: 0 auto; padding-right: 20px;\",\n",
    "  inst_map\n",
    ")\n"
   ]
  },
  {
   "cell_type": "markdown",
   "id": "2be858a9",
   "metadata": {},
   "source": [
    "# NFDI Consortia"
   ]
  },
  {
   "cell_type": "code",
   "execution_count": null,
   "id": "1191ab2d",
   "metadata": {
    "message": false,
    "name": "consotria-preprocessing",
    "tags": [
     "remove_output"
    ],
    "warning": false
   },
   "outputs": [],
   "source": [
    "invisible(capture.output({\n",
    "# Transform data to right format\n",
    "binary_columns <- data[,9:35]\n",
    "sapply(binary_columns, class)\n",
    "for (i in 1:dim(binary_columns)[2]) {\n",
    "  binary_columns[,i] <- as.factor(binary_columns[,i])\n",
    "}\n",
    "binary_columns <- sapply(binary_columns,as.numeric)\n",
    "binary_columns <- (binary_columns - 1)\n",
    "sums <- as.data.frame(colSums(binary_columns, na.rm = TRUE))\n",
    "colnames(sums) <- \"Value\"\n",
    "sums$Name <- rownames(sums)\n",
    "}))"
   ]
  },
  {
   "cell_type": "code",
   "execution_count": null,
   "id": "812e0da1",
   "metadata": {
    "fig.height": 12,
    "fig.width": 15,
    "name": "consortia-plotting"
   },
   "outputs": [],
   "source": [
    "#| fig-align: center\n",
    "\n",
    "ggplot(sums, aes(x = reorder(Name, -Value), y = Value)) + \n",
    "  geom_bar(stat = \"identity\") +\n",
    "  labs(\n",
    "    title = \"Bar Graph of NFDI Members\",\n",
    "    subtitle = question_info$question_text[2],\n",
    "    x = \"NFDI Member\",\n",
    "    y = \"Value\"\n",
    "  ) +\n",
    "  theme_minimal() +\n",
    "  theme(\n",
    "    axis.text.x = element_text(angle = 45, hjust = 1),\n",
    "    plot.margin = margin(50, 50, 50, 50)\n",
    "  ) +\n",
    "  coord_cartesian(clip = \"off\")\n"
   ]
  },
  {
   "cell_type": "markdown",
   "id": "f6a1f3b6",
   "metadata": {},
   "source": [
    "## Other Consortia"
   ]
  },
  {
   "cell_type": "code",
   "execution_count": null,
   "id": "088044ae",
   "metadata": {
    "lines_to_next_cell": 2
   },
   "outputs": [],
   "source": [
    "# other NFDI\n",
    "data$NFDI_member_Other[!is.na(data$NFDI_member_Other)]\n"
   ]
  },
  {
   "cell_type": "markdown",
   "id": "3fa41725",
   "metadata": {},
   "source": [
    "# Role of survey respondents"
   ]
  },
  {
   "cell_type": "code",
   "execution_count": null,
   "id": "96a2b311",
   "metadata": {
    "message": false,
    "name": "role-processing",
    "tags": [
     "remove_output"
    ],
    "warning": false
   },
   "outputs": [],
   "source": [
    "invisible(capture.output({\n",
    "data$`normalized role`[data$`normalized role` == FALSE] <- NA\n",
    "table(data$`normalized role`,useNA = \"always\")\n",
    "role_frame <- as.data.frame(table(data$`normalized role`,useNA = \"always\"))\n",
    "colnames(role_frame) <- c(\"Role\",\"Count\")\n",
    "role_frame <- role_frame[order(role_frame$Count,decreasing = T),]\n",
    "role_frame$Role <- factor(role_frame$Role, levels = role_frame$Role) \n",
    "}))"
   ]
  },
  {
   "cell_type": "code",
   "execution_count": null,
   "id": "1e33f8e0",
   "metadata": {
    "fig.height": 12,
    "fig.width": 15
   },
   "outputs": [],
   "source": [
    "#| fig-align: center\n",
    "# Barplot\n",
    "ggplot(role_frame, aes(x = Role, y = Count)) + \n",
    "  geom_bar(stat = \"identity\") +\n",
    "  theme_classic() +\n",
    "  labs(\n",
    "    title = \"Bar Graph of Roles\",\n",
    "    subtitle = question_info$question_text[3],\n",
    "    x = \"Role\",\n",
    "    y = \"Count\"\n",
    "  ) +\n",
    "  theme(axis.text.x = element_text(angle = 45, hjust = 1))\n"
   ]
  },
  {
   "cell_type": "markdown",
   "id": "0aa5cf5f",
   "metadata": {},
   "source": [
    "# Knowing Jupyter"
   ]
  },
  {
   "cell_type": "code",
   "execution_count": null,
   "id": "f862ef5c",
   "metadata": {
    "name": "knowing-jupyter-processing"
   },
   "outputs": [],
   "source": [
    "table(data$know_jupyter4NFDI,useNA = \"always\")\n",
    "prop.table(table(data$know_jupyter4NFDI,useNA = \"always\"))\n",
    "know_jupyter4NFDI_frame <- as.data.frame(table(data$know_jupyter4NFDI,useNA = \"always\"))\n",
    "colnames(know_jupyter4NFDI_frame) <- c(\"Knows\",\"Count\")\n",
    "know_jupyter4NFDI_frame <- know_jupyter4NFDI_frame[order(know_jupyter4NFDI_frame$Count,decreasing = T),]\n",
    "know_jupyter4NFDI_frame$Knows <- factor(know_jupyter4NFDI_frame$Knows, levels = know_jupyter4NFDI_frame$Knows)"
   ]
  },
  {
   "cell_type": "code",
   "execution_count": null,
   "id": "65820fcb",
   "metadata": {
    "fig.height": 12,
    "fig.width": 15,
    "name": "knowing-jupyter-plotting"
   },
   "outputs": [],
   "source": [
    "#| fig-align: center\n",
    "# Barplot\n",
    "ggplot(know_jupyter4NFDI_frame, aes(x = Knows, y = Count)) + \n",
    "  geom_bar(stat = \"identity\") +\n",
    "  theme_classic() +\n",
    "  labs(\n",
    "    title = \"Bar Graph of knowing Jupyter4NFDI\",\n",
    "    subtitle = question_info$question_text[4],\n",
    "    x = \"Survey Answer\",\n",
    "    y = \"Count\"\n",
    "  )\n"
   ]
  },
  {
   "cell_type": "markdown",
   "id": "932be86f",
   "metadata": {},
   "source": [
    "# Knowing Jupyter by Role"
   ]
  },
  {
   "cell_type": "code",
   "execution_count": null,
   "id": "387af19d",
   "metadata": {
    "error": false,
    "message": false,
    "warning": false
   },
   "outputs": [],
   "source": [
    "invisible(capture.output({\n",
    "# Create a contingency table and transform it to a data frame\n",
    "know_jupyter4NFDI_role_frame <- as.data.frame(table(data$`normalized role`, data$know_jupyter4NFDI, useNA = \"always\"))\n",
    "\n",
    "# Pivot the table to a wide format\n",
    "know_jupyter4NFDI_role_frame_wide <- suppressWarnings(reshape(know_jupyter4NFDI_role_frame,\n",
    "                                            idvar = \"Var1\", \n",
    "                                            timevar = \"Var2\", \n",
    "                                            direction = \"wide\"))\n",
    "\n",
    "# Clean up the column names\n",
    "colnames(know_jupyter4NFDI_role_frame_wide) <- c(\"Role\", \"No\", \"Yes\", \"NA\")\n",
    "\n",
    "# Optionally, create a nice table\n",
    "know_jupyter4NFDI_role_frame_wide\n",
    "\n",
    "}))"
   ]
  },
  {
   "cell_type": "code",
   "execution_count": null,
   "id": "68fbb113",
   "metadata": {
    "fig.height": 12,
    "fig.width": 15
   },
   "outputs": [],
   "source": [
    "#| fig-align: center\n",
    "# stacked bar chart\n",
    "ggplot(data, aes(x = `normalized role`, fill = know_jupyter4NFDI)) + \n",
    "  geom_bar(position = \"dodge\") +\n",
    "  theme_classic() +\n",
    "  theme(axis.text.x = element_text(angle = 45, hjust = 1)) +\n",
    "  labs(title = \"Knowing Jupyter by Role\", subtitle = question_info$question_text[4],)\n"
   ]
  },
  {
   "cell_type": "markdown",
   "id": "c11627c5",
   "metadata": {},
   "source": [
    "# Knowing Jupyter by Consortium"
   ]
  },
  {
   "cell_type": "code",
   "execution_count": null,
   "id": "33b74b4d",
   "metadata": {
    "name": "jupyterbyConsotrium-preprocessing"
   },
   "outputs": [],
   "source": [
    "binary_columns_mat <- as.matrix(binary_columns)\n",
    "column_indices <- apply(binary_columns_mat, 1, which.max)\n",
    "consortium_factor <- as.factor(column_indices)\n",
    "levels(consortium_factor) <- substr(colnames(binary_columns),13,100)[as.numeric((levels(consortium_factor)))]\n",
    "data$consortium <- consortium_factor\n"
   ]
  },
  {
   "cell_type": "code",
   "execution_count": null,
   "id": "6b3e4874",
   "metadata": {
    "error": false,
    "message": false,
    "warning": false
   },
   "outputs": [],
   "source": [
    "# Create a contingency table and transform it to a data frame\n",
    "know_jupyter4NFDI_consortium_frame <- as.data.frame(table(data$consortium, data$know_jupyter4NFDI, useNA = \"always\"))\n",
    "\n",
    "# Pivot the table to a wide format\n",
    "know_jupyter4NFDI_consortium_frame_wide <- reshape(know_jupyter4NFDI_consortium_frame,\n",
    "                                            idvar = \"Var1\", \n",
    "                                            timevar = \"Var2\", \n",
    "                                            direction = \"wide\")\n",
    "\n",
    "# Clean up the column names\n",
    "colnames(know_jupyter4NFDI_consortium_frame_wide) <- c(\"Role\", \"No\", \"Yes\", \"NA\")\n",
    "\n",
    "# Optionally, create a nice table \n",
    "know_jupyter4NFDI_consortium_frame_wide"
   ]
  },
  {
   "cell_type": "code",
   "execution_count": null,
   "id": "aa612c16",
   "metadata": {
    "fig.height": 12,
    "fig.width": 15,
    "name": "KnowingJupyterbyConsortium-plotting"
   },
   "outputs": [],
   "source": [
    "#| fig-align: center\n",
    "# stacked bar chart\n",
    "ggplot(data, aes(x = consortium, fill = know_jupyter4NFDI)) + \n",
    "  geom_bar(position = \"dodge\") +\n",
    "  theme_classic() +\n",
    "  theme(axis.text.x = element_text(angle = 45, hjust = 1))  +\n",
    "  labs(title = \"Knowing Jupyter by Consortium\", subtitle = question_info$question_text[2],)"
   ]
  },
  {
   "cell_type": "markdown",
   "id": "a643042c",
   "metadata": {},
   "source": [
    "# Expectations"
   ]
  },
  {
   "cell_type": "code",
   "execution_count": null,
   "id": "3307f1a1",
   "metadata": {
    "message": false,
    "name": "expectations-processing",
    "tags": [
     "remove_output"
    ],
    "warning": false
   },
   "outputs": [],
   "source": [
    "invisible(capture.output({\n",
    "expect_frame <- data[,39:46]\n",
    "sapply(expect_frame, class)\n",
    "for (i in 1:dim(expect_frame)[2]) {\n",
    "  expect_frame[,i] <- as.factor(expect_frame[,i])\n",
    "}\n",
    "expect_frame <- sapply(expect_frame,as.numeric)\n",
    "expect_frame <- (expect_frame - 1)\n",
    "sums <- as.data.frame(colSums(expect_frame, na.rm = TRUE))\n",
    "colnames(sums) <- \"Value\"\n",
    "sums$Name <- rownames(sums)\n",
    "}))"
   ]
  },
  {
   "cell_type": "code",
   "execution_count": null,
   "id": "1c863910",
   "metadata": {},
   "outputs": [],
   "source": [
    "# Pivot the table to a wide format (to prevent long format)\n",
    "sums2 <- reshape(sums,\n",
    "                 idvar = \"Value\",\n",
    "                 timevar = \"Name\",\n",
    "                 direction = \"wide\")\n",
    "\n",
    "# Optionally, create a nice table \n",
    "sums2\n"
   ]
  },
  {
   "cell_type": "code",
   "execution_count": null,
   "id": "812a7023",
   "metadata": {
    "fig.height": 12,
    "fig.width": 15,
    "name": "expectations-plotting"
   },
   "outputs": [],
   "source": [
    "#| fig-align: center\n",
    "# Create bar graph\n",
    "ggplot(sums, aes(x = reorder(Name, -Value), y = Value)) + \n",
    "  geom_bar(stat = \"identity\") +\n",
    "  labs(\n",
    "    title = \"Bar Graph of Expectations\",\n",
    "    subtitle = question_info$question_text[5],\n",
    "    x = \"Expectation\",\n",
    "    y = \"Answered 'Yes' in survey\"\n",
    "  ) +\n",
    "  theme_minimal() +\n",
    "  theme(\n",
    "    axis.text.x = element_text(angle = 45, hjust = 1)\n",
    "  )"
   ]
  },
  {
   "cell_type": "markdown",
   "id": "05a54eb1",
   "metadata": {},
   "source": [
    "### Other Expectations"
   ]
  },
  {
   "cell_type": "code",
   "execution_count": null,
   "id": "ec541b7d",
   "metadata": {
    "name": "expectations-other"
   },
   "outputs": [],
   "source": [
    "# other NFDI\n",
    "data$expect_other[!is.na(data$expect_other)]"
   ]
  },
  {
   "cell_type": "markdown",
   "id": "994eafd1",
   "metadata": {},
   "source": [
    "# Consortium Role"
   ]
  },
  {
   "cell_type": "code",
   "execution_count": null,
   "id": "e781d6a4",
   "metadata": {
    "name": "consotrium_role_process"
   },
   "outputs": [],
   "source": [
    "# Survey taker consortium role\n",
    "data$Q50_desc[data$Q50_desc == \"User (single-person or, for example, teacher/trainer)\"] <- \"User\"\n",
    "data$Q50_desc[data$Q50_desc == \"Community or Research Alliance Representative / Consortium Manager\"] <- \"Representative/Manager\"\n",
    "\n",
    "#table(data$Q50_desc, useNA = \"always\")\n",
    "#prop.table(table(data$Q50_desc, useNA = \"always\"))*100\n",
    "cons_role_frame <- as.data.frame(table(data$Q50_desc, useNA = \"always\"))\n",
    "\n",
    "# Optionally, create a nice table\n",
    "cons_role_frame\n",
    "\n"
   ]
  },
  {
   "cell_type": "code",
   "execution_count": null,
   "id": "17d8bc5f",
   "metadata": {
    "fig.height": 12,
    "fig.width": 15
   },
   "outputs": [],
   "source": [
    "#| fig-align: center\n",
    "# stacked bar chart\n",
    "question_info$question_text[7]\n",
    "q_text <- \"Select the appropriate branch that describes your activity.\"\n",
    "\n",
    "ggplot(data, aes(x = Q50_desc)) + \n",
    "  geom_bar() +\n",
    "  labs(title = \"Consortium roles of survey respondents\",\n",
    "       subtitle = q_text,\n",
    "       x = \"Consortium role\",\n",
    "       y = \"Count\") +\n",
    "  theme_classic() +\n",
    "  theme(\n",
    "    axis.text.x = element_text(angle = 45, hjust = 1)\n",
    "  )\n"
   ]
  },
  {
   "cell_type": "markdown",
   "id": "b1cece76",
   "metadata": {},
   "source": [
    "## Knowing Jupyter by Consortium role"
   ]
  },
  {
   "cell_type": "code",
   "execution_count": null,
   "id": "be18fd6d",
   "metadata": {
    "name": "Knowing Jupyter by Consortium role"
   },
   "outputs": [],
   "source": [
    "# know jupyter by role\n",
    "#table(data$Q50_desc,data$know_jupyter4NFDI,useNA = \"always\")\n",
    "#prop.table(table(data$Q50_desc,data$know_jupyter4NFDI,useNA = \"always\"))*100\n",
    "\n",
    "know_jupy_by_cons_role_frame <- table(data$Q50_desc,data$know_jupyter4NFDI,useNA = \"always\")\n",
    "\n",
    "# Optionally, create a nice table\n",
    "know_jupy_by_cons_role_frame\n"
   ]
  },
  {
   "cell_type": "code",
   "execution_count": null,
   "id": "03e32285",
   "metadata": {
    "fig.height": 12,
    "fig.width": 15,
    "name": "Knowing Jupyter by Consortium role_plotting"
   },
   "outputs": [],
   "source": [
    "#| fig-align: center\n",
    "# stacked bar chart\n",
    "ggplot(data, aes(x = Q50_desc, fill = know_jupyter4NFDI)) + \n",
    "  geom_bar(position = \"dodge\") +\n",
    "  labs(title = \"Knowing Jupyter4NFDI by Consortium roles\",\n",
    "       subtitle = q_text,\n",
    "       x = \"Consortium role\",\n",
    "       y = \"Count\") +\n",
    "  theme_classic() +\n",
    "  theme(axis.text.x = element_text(angle = 45, hjust = 1))\n",
    "\n",
    "\n"
   ]
  },
  {
   "cell_type": "markdown",
   "id": "a40db746",
   "metadata": {},
   "source": [
    "# Operating Management Responsibility"
   ]
  },
  {
   "cell_type": "code",
   "execution_count": null,
   "id": "df461975",
   "metadata": {},
   "outputs": [],
   "source": [
    "#data$operation_management_responsibiltiy_in_consortium[!is.na(data$operation_management_responsibiltiy_in_consortium)]\n",
    "#table(data$operation_management_responsibiltiy_in_consortium,useNA = \"always\")\n",
    "#prop.table(table(data$operation_management_responsibiltiy_in_consortium,useNA = \"always\"))*100\n",
    "\n",
    "op_resp_frame <- as.data.frame(table(data$operation_management_responsibiltiy_in_consortium,useNA = \"always\"))\n",
    "\n",
    "# Optionally, create a nice table\n",
    "op_resp_frame"
   ]
  },
  {
   "cell_type": "code",
   "execution_count": null,
   "id": "b7c8cbb2",
   "metadata": {
    "fig.height": 12,
    "fig.width": 15
   },
   "outputs": [],
   "source": [
    "#| fig-align: center\n",
    "# stacked bar chart\n",
    "ggplot(data, aes(x = operation_management_responsibiltiy_in_consortium)) + \n",
    "  geom_bar() +\n",
    "  labs(title = \"Consortium Operation Management responsibility of survey respondents\",\n",
    "       subtitle = question_info$question_text[8],\n",
    "       x = \"Responsibility\",\n",
    "       y = \"Count\") +\n",
    "  theme_classic() +\n",
    "  theme(axis.text.x = element_text(angle = 45, hjust = 1))\n"
   ]
  },
  {
   "cell_type": "markdown",
   "id": "5d500a54",
   "metadata": {},
   "source": [
    "## Op Management Responsibility by knowing Jupyter"
   ]
  },
  {
   "cell_type": "code",
   "execution_count": null,
   "id": "bdf754f4",
   "metadata": {
    "error": false,
    "message": false,
    "warning": false
   },
   "outputs": [],
   "source": [
    "# know jupyter by responsibility\n",
    "#table(data$operation_management_responsibiltiy_in_consortium,data$know_jupyter4NFDI,useNA = \"always\")\n",
    "#prop.table(table(data$operation_management_responsibiltiy_in_consortium,data$know_jupyter4NFDI,useNA = \"always\"))*100\n",
    "\n",
    "op_resp_by_jup_frame <- as.data.frame(table(data$operation_management_responsibiltiy_in_consortium,data$know_jupyter4NFDI,useNA = \"always\"))\n",
    "\n",
    "\n",
    "# Pivot the table to a wide format (to prevent long format)\n",
    "op_resp_by_jup_frame2 <- reshape(op_resp_by_jup_frame,\n",
    "                 idvar = \"Var1\",\n",
    "                 timevar = \"Var2\",\n",
    "                 direction = \"wide\")\n",
    "\n",
    "# Optionally, create a nice table\n",
    "op_resp_by_jup_frame2"
   ]
  },
  {
   "cell_type": "code",
   "execution_count": null,
   "id": "f9ffef3b",
   "metadata": {
    "fig.height": 12,
    "fig.width": 15
   },
   "outputs": [],
   "source": [
    "#| fig-align: center\n",
    "# stacked bar chart\n",
    "ggplot(data, aes(x = operation_management_responsibiltiy_in_consortium, fill = know_jupyter4NFDI)) + \n",
    "  geom_bar(position = \"dodge\") +\n",
    "  labs(title = \"Knowing Jupyter4NFDI by Responsibility\",\n",
    "       subtitle = question_info$question_text[8],\n",
    "       x = \"Responsibility\",\n",
    "       y = \"Count\") +\n",
    "  theme_classic() +\n",
    "  theme(axis.text.x = element_text(angle = 45, hjust = 1))\n",
    "\n"
   ]
  },
  {
   "cell_type": "markdown",
   "id": "735a2c2f",
   "metadata": {},
   "source": [
    "# IaaS Cloud Cluster"
   ]
  },
  {
   "cell_type": "code",
   "execution_count": null,
   "id": "1ce34e66",
   "metadata": {
    "fig.height": 12,
    "fig.width": 15
   },
   "outputs": [],
   "source": [
    "#| fig-align: center\n",
    "\n",
    "data.frame(table(data$IaaS.cloud.cluster_yes, useNA = \"always\"))\n",
    "#prop.table(table(data$IaaS.cloud.cluster_yes, useNA = \"always\"))*100\n",
    "\n",
    "# stacked bar chart\n",
    "ggplot(data, aes(x = IaaS.cloud.cluster_yes)) + \n",
    "  geom_bar() +\n",
    "  labs(title = \"Iaas Cloud cluster with dedicated staff\",\n",
    "       subtitle = question_info$question_text[9],\n",
    "       x = \"answer\",\n",
    "       y = \"Count\") +\n",
    "  theme_classic()\n",
    "\n"
   ]
  },
  {
   "cell_type": "code",
   "execution_count": null,
   "id": "138ba04a",
   "metadata": {
    "fig.height": 12,
    "fig.width": 15
   },
   "outputs": [],
   "source": [
    "#| fig-align: center\n",
    "\n",
    "data.frame(table(data$IaaS.cloud.cluster_no, useNA = \"always\"))\n",
    "\n",
    "# stacked bar chart\n",
    "ggplot(data, aes(x = IaaS.cloud.cluster_no)) + \n",
    "  geom_bar() +\n",
    "  labs(title = \"Own resources but wouldnt call it a cloud cluster\",\n",
    "       x = \"answer\",\n",
    "       y = \"Count\") +\n",
    "  theme_classic()\n"
   ]
  },
  {
   "cell_type": "markdown",
   "id": "70cf9bf5",
   "metadata": {},
   "source": [
    "## IaaS Cloud Cluster other"
   ]
  },
  {
   "cell_type": "code",
   "execution_count": null,
   "id": "ac06c164",
   "metadata": {},
   "outputs": [],
   "source": [
    "# Other cloud cluster responses\n",
    "data$IaaS.cloud.cluster_other[!is.na(data$IaaS.cloud.cluster_other)]"
   ]
  },
  {
   "cell_type": "markdown",
   "id": "f113e90a",
   "metadata": {},
   "source": [
    "# Cloud Cluster"
   ]
  },
  {
   "cell_type": "code",
   "execution_count": null,
   "id": "54271fc3",
   "metadata": {
    "message": false,
    "tags": [
     "remove_output"
    ],
    "warning": false
   },
   "outputs": [],
   "source": [
    "invisible(capture.output({\n",
    "cloud_cluster_frame <- data[,55:57]\n",
    "sapply(cloud_cluster_frame, class)\n",
    "for (i in 1:dim(cloud_cluster_frame)[2]) {\n",
    "  cloud_cluster_frame[,i] <- as.factor(cloud_cluster_frame[,i])\n",
    "}\n",
    "cloud_cluster_frame <- sapply(cloud_cluster_frame,as.numeric)\n",
    "cloud_cluster_frame <- (cloud_cluster_frame - 1)\n",
    "sums <- as.data.frame(colSums(cloud_cluster_frame, na.rm = TRUE))\n",
    "colnames(sums) <- \"Value\"\n",
    "sums$Name <- rownames(sums)\n",
    "\n",
    "}))"
   ]
  },
  {
   "cell_type": "code",
   "execution_count": null,
   "id": "569df484",
   "metadata": {},
   "outputs": [],
   "source": [
    "row.names(sums) <- NULL\n",
    "sums[,c(2,1)]\n"
   ]
  },
  {
   "cell_type": "code",
   "execution_count": null,
   "id": "a8f9fc7c",
   "metadata": {
    "fig.height": 12,
    "fig.width": 15
   },
   "outputs": [],
   "source": [
    "#| fig-align: center\n",
    "\n",
    "# Create bar graph\n",
    "ggplot(sums, aes(x = reorder(Name, -Value), y = Value)) + \n",
    "  geom_bar(stat = \"identity\") +\n",
    "  labs(\n",
    "    title = \"Bar Graph of Cloud Cluster Solution\",\n",
    "    subtitle = question_info$question_text[10],\n",
    "    x = \"Cloud Cluster\",\n",
    "    y = \"Mentioned in Survey\"\n",
    "  ) +\n",
    "  theme_minimal() +\n",
    "  theme(axis.text.x = element_text(angle = 45, hjust = 1))\n"
   ]
  },
  {
   "cell_type": "markdown",
   "id": "1d96c345",
   "metadata": {},
   "source": [
    "## Cloud Cluster other"
   ]
  },
  {
   "cell_type": "code",
   "execution_count": null,
   "id": "562e57ed",
   "metadata": {},
   "outputs": [],
   "source": [
    "# other NFDI\n",
    "data$cloud_cluster_other[!is.na(data$cloud_cluster_other)]"
   ]
  },
  {
   "cell_type": "markdown",
   "id": "2ad88a4c",
   "metadata": {},
   "source": [
    "# Using JupyterHub (or similar)"
   ]
  },
  {
   "cell_type": "code",
   "execution_count": null,
   "id": "8b43c9e1",
   "metadata": {},
   "outputs": [],
   "source": [
    "# table(data$use_jupyterhub_or_similar, useNA = \"always\")\n",
    "# prop.table(table(data$use_jupyterhub_or_similar, useNA = \"always\"))*100\n",
    "jupyter_hub_frame <- data.frame(table(data$use_jupyterhub_or_similar, useNA = \"always\"))\n",
    "jupyter_hub_frame"
   ]
  },
  {
   "cell_type": "code",
   "execution_count": null,
   "id": "7e1dda08",
   "metadata": {
    "fig.height": 12,
    "fig.width": 15
   },
   "outputs": [],
   "source": [
    "#| fig-align: center\n",
    "\n",
    "# stacked bar chart\n",
    "ggplot(data, aes(x = use_jupyterhub_or_similar)) + \n",
    "  geom_bar() +\n",
    "  labs(title = \"Using JupyterHub or similar service\",\n",
    "       subtitle = question_info$question_text[11],\n",
    "       x = \"answer\",\n",
    "       y = \"Count\") +\n",
    "  theme_classic()\n"
   ]
  },
  {
   "cell_type": "markdown",
   "id": "28248cf3",
   "metadata": {},
   "source": [
    "## Other Services"
   ]
  },
  {
   "cell_type": "code",
   "execution_count": null,
   "id": "7b13e9ba",
   "metadata": {},
   "outputs": [],
   "source": [
    "# which similar\n",
    "data$use_which_similar[!is.na(data$use_which_similar)]"
   ]
  },
  {
   "cell_type": "code",
   "execution_count": null,
   "id": "ada14ff3",
   "metadata": {
    "lines_to_next_cell": 0
   },
   "outputs": [],
   "source": [
    "# links\n",
    "data$use_which_similar_link[!is.na(data$use_which_similar_link)]\n",
    "links <- rm_url(data$use_which_similar_link[!is.na(data$use_which_similar_link)], extract = T)\n",
    "links <- unlist(links)\n",
    "links <- links[!is.na(links)]\n",
    "links\n"
   ]
  },
  {
   "cell_type": "markdown",
   "id": "5d996549",
   "metadata": {},
   "source": [
    "# Spawner Use"
   ]
  },
  {
   "cell_type": "code",
   "execution_count": null,
   "id": "c6a02803",
   "metadata": {},
   "outputs": [],
   "source": [
    "#table(data$spawner_use, useNA = \"always\")\n",
    "#prop.table(table(data$spawner_use, useNA = \"always\"))*100\n",
    "spawner_frame <- data.frame(table(data$spawner_use, useNA = \"always\"))\n",
    "spawner_frame"
   ]
  },
  {
   "cell_type": "code",
   "execution_count": null,
   "id": "a9945cb2",
   "metadata": {
    "fig.height": 12,
    "fig.width": 15
   },
   "outputs": [],
   "source": [
    "#| fig-align: center\n",
    "# stacked bar chart\n",
    "ggplot(data, aes(x = spawner_use)) + \n",
    "  geom_bar() +\n",
    "  labs(title = \"Which Spawner is used?\",\n",
    "       subtitle = question_info$question_text[14],\n",
    "       x = \"answer\",\n",
    "       y = \"Count\") +\n",
    "  theme_classic() +\n",
    "  theme(axis.text.x = element_text(angle = 45, hjust = 1))"
   ]
  },
  {
   "cell_type": "markdown",
   "id": "96b2d446",
   "metadata": {},
   "source": [
    "## Other Spawners"
   ]
  },
  {
   "cell_type": "code",
   "execution_count": null,
   "id": "c4725f15",
   "metadata": {},
   "outputs": [],
   "source": [
    "\n",
    "# which similar\n",
    "data$spawner_use_other[!is.na(data$spawner_use_other)]\n",
    "\n"
   ]
  },
  {
   "cell_type": "markdown",
   "id": "eafc0eb0",
   "metadata": {},
   "source": [
    "# Willingness to connect to JupyterHub"
   ]
  },
  {
   "cell_type": "code",
   "execution_count": null,
   "id": "5c8d123a",
   "metadata": {},
   "outputs": [],
   "source": [
    "# Willingness to connect own resources to central JupyterHub\n",
    "#table(data$spawner_use, useNA = \"always\")\n",
    "#prop.table(table(data$spawner_use, useNA = \"always\"))*100\n",
    "willingness_frame <- data.frame(table(data$willing_to_connect_resources_to_jupyterhub, useNA = \"always\"))\n",
    "willingness_frame\n"
   ]
  },
  {
   "cell_type": "code",
   "execution_count": null,
   "id": "5540c54a",
   "metadata": {
    "fig.height": 12,
    "fig.width": 15
   },
   "outputs": [],
   "source": [
    "#| fig-align: center\n",
    "# stacked bar chart\n",
    "ggplot(data, aes(x = willing_to_connect_resources_to_jupyterhub)) + \n",
    "  geom_bar() +\n",
    "  labs(title = \"Willing to connect Resourcen to Jupyter Hub\",\n",
    "       subtitle = question_info$question_text[15],\n",
    "       x = \"answer\",\n",
    "       y = \"Count\") +\n",
    "  theme_classic() +\n",
    "  theme(axis.text.x = element_text(angle = 45, hjust = 1))\n",
    "\n",
    "\n"
   ]
  },
  {
   "cell_type": "markdown",
   "id": "02cded80",
   "metadata": {},
   "source": [
    "# Eligible User Groups for shared Resources"
   ]
  },
  {
   "cell_type": "code",
   "execution_count": null,
   "id": "97aa508c",
   "metadata": {
    "message": false,
    "tags": [
     "remove_output"
    ],
    "warning": false
   },
   "outputs": [],
   "source": [
    "invisible(capture.output({\n",
    "data$eligible_users_local  <- as.factor(data$eligible_users_local)\n",
    "data$eligible_users_local <- factor(data$eligible_users_local, levels = c(levels(data$eligible_users_local), \"No\"))\n",
    "table(data$eligible_users_local,useNA = \"always\")\n",
    "prop.table(table(data$eligible_users_local,useNA = \"always\"))*100\n",
    "\n",
    "table(data$eligible_users_NFDI,useNA = \"always\")\n",
    "prop.table(table(data$eligible_users_NFDI,useNA = \"always\"))*100\n",
    "\n",
    "table(data$eligible_users_external,useNA = \"always\")\n",
    "prop.table(table(data$eligible_users_external,useNA = \"always\"))*100\n",
    "\n",
    "eligible_frame <- rbind.data.frame(table(data$eligible_users_local,useNA = \"always\"),\n",
    "                                   table(data$eligible_users_NFDI,useNA = \"always\"),\n",
    "                                   table(data$eligible_users_external,useNA = \"always\"))\n",
    "eligible_frame <- cbind.data.frame(User = c(\"local\",\"NFDI\",\"external\"),eligible_frame)\n",
    "colnames(eligible_frame) <- c(\"User\",\"Yes\",\"No\",\"NA\")\n",
    "\n",
    "eligible_frame_long <- tidyr::pivot_longer(\n",
    "  eligible_frame, \n",
    "  cols = c(Yes, No, `NA`), \n",
    "  names_to = \"Response\", \n",
    "  values_to = \"Count\"\n",
    ")\n",
    "\n",
    "}))"
   ]
  },
  {
   "cell_type": "code",
   "execution_count": null,
   "id": "98119041",
   "metadata": {},
   "outputs": [],
   "source": [
    "eligible_frame_long"
   ]
  },
  {
   "cell_type": "code",
   "execution_count": null,
   "id": "7aa47661",
   "metadata": {
    "fig.height": 12,
    "fig.width": 15,
    "lines_to_next_cell": 0
   },
   "outputs": [],
   "source": [
    "#| fig-align: center\n",
    "# Create the dodged bar graph\n",
    "ggplot(eligible_frame_long, aes(x = User, y = Count, fill = Response)) +\n",
    "  geom_bar(stat = \"identity\", position = position_dodge()) +\n",
    "  labs(\n",
    "    title = \"User Eligibility\",\n",
    "    subtitle = question_info$question_text[16],\n",
    "    x = \"User Type\",\n",
    "    y = \"Count\",\n",
    "    fill = \"Response\"\n",
    "  ) +\n",
    "  theme_minimal() +\n",
    "  theme(axis.text.x = element_text(angle = 45, hjust = 1))\n",
    "\n"
   ]
  },
  {
   "cell_type": "markdown",
   "id": "8d13f9f4",
   "metadata": {},
   "source": [
    "# User Groups in NFDI"
   ]
  },
  {
   "cell_type": "code",
   "execution_count": null,
   "id": "54ecc246",
   "metadata": {},
   "outputs": [],
   "source": [
    "# User groups in NFDI\n",
    "data$user_groups_in_NFDI[!is.na(data$user_groups_in_NFDI)]\n"
   ]
  },
  {
   "cell_type": "markdown",
   "id": "39dcbdce",
   "metadata": {},
   "source": [
    "# Shared Resources Offer"
   ]
  },
  {
   "cell_type": "code",
   "execution_count": null,
   "id": "f4fe1ed0",
   "metadata": {},
   "outputs": [],
   "source": [
    "\n",
    "# Shared resources offer\n",
    "data$shared_resources_offer[!is.na(data$shared_resources_offer)]\n"
   ]
  },
  {
   "cell_type": "markdown",
   "id": "ff951047",
   "metadata": {},
   "source": [
    "# Shared Resources Policies"
   ]
  },
  {
   "cell_type": "code",
   "execution_count": null,
   "id": "92e4814a",
   "metadata": {},
   "outputs": [],
   "source": [
    "# shared resources policies\n",
    "data$shared_resources_policies[!is.na(data$shared_resources_policies)]\n",
    "\n",
    "\n"
   ]
  },
  {
   "cell_type": "markdown",
   "id": "49ac8b89",
   "metadata": {},
   "source": [
    "# Expected Benefits from sharing"
   ]
  },
  {
   "cell_type": "code",
   "execution_count": null,
   "id": "563d4f30",
   "metadata": {
    "message": false,
    "tags": [
     "remove_output"
    ],
    "warning": false
   },
   "outputs": [],
   "source": [
    "invisible(capture.output({\n",
    "table(data$benefits_from_sharing_less_maintenance,useNA = \"always\")\n",
    "prop.table(table(data$benefits_from_sharing_less_maintenance,useNA = \"always\"))*100\n",
    "\n",
    "table(data$benefits_from_sharing_concentrate_on_hardware,useNA = \"always\")\n",
    "prop.table(table(data$benefits_from_sharing_concentrate_on_hardware,useNA = \"always\"))*100\n",
    "\n",
    "table(data$benefits_from_sharing_centrailized_AAI_and_user_mngmt,useNA = \"always\")\n",
    "prop.table(table(data$benefits_from_sharing_centrailized_AAI_and_user_mngmt,useNA = \"always\"))*100\n",
    "\n",
    "table(data$benefits_from_sharing_enhanced_visibility,useNA = \"always\")\n",
    "prop.table(table(data$benefits_from_sharing_enhanced_visibility,useNA = \"always\"))*100\n",
    "\n",
    "benefits_frame <- rbind.data.frame(table(data$benefits_from_sharing_less_maintenance,useNA = \"always\"),\n",
    "                                   table(data$benefits_from_sharing_concentrate_on_hardware,useNA = \"always\"),\n",
    "                                   table(data$benefits_from_sharing_centrailized_AAI_and_user_mngmt,useNA = \"always\"),\n",
    "                                   table(data$benefits_from_sharing_enhanced_visibility,useNA = \"always\"))\n",
    "\n",
    "\n",
    "benefits_frame <- cbind.data.frame(User = c(\"less_maintenance\",\"focus_on_hardware\",\"centrailized_AAI_user_mngmt\",\"enhanced_visibility\"), benefits_frame)\n",
    "colnames(benefits_frame) <- c(\"Benefit\",\"Yes\",\"No\",\"NA\")\n",
    "\n",
    "benefits_frame_long <- tidyr::pivot_longer(\n",
    "  benefits_frame, \n",
    "  cols = c(Yes, No, `NA`), \n",
    "  names_to = \"Response\", \n",
    "  values_to = \"Count\"\n",
    ")\n",
    "\n",
    "}))"
   ]
  },
  {
   "cell_type": "code",
   "execution_count": null,
   "id": "cf281fc1",
   "metadata": {
    "fig.height": 12,
    "fig.width": 15
   },
   "outputs": [],
   "source": [
    "#| fig-align: center\n",
    "# Create the dodged bar graph\n",
    "ggplot(benefits_frame_long, aes(x = Benefit, y = Count, fill = Response)) +\n",
    "  geom_bar(stat = \"identity\", position = position_dodge()) +\n",
    "  labs(\n",
    "    title = \"Expected Benefits\",\n",
    "    subtitle = question_info$question_text[20],\n",
    "    x = \"Benefit\",\n",
    "    y = \"Count\",\n",
    "    fill = \"Response\"\n",
    "  ) +\n",
    "  theme_classic() +\n",
    "  theme(axis.text.x = element_text(angle = 45, hjust = 1))\n"
   ]
  },
  {
   "cell_type": "markdown",
   "id": "f0bcf102",
   "metadata": {},
   "source": [
    "# Knowing Jupyter"
   ]
  },
  {
   "cell_type": "code",
   "execution_count": null,
   "id": "2bab25b0",
   "metadata": {},
   "outputs": [],
   "source": [
    "# knowing jupyter\n",
    "#data$know_jupyter[!is.na(data$know_jupyter)]\n",
    "#table(data$know_jupyter, useNA = \"always\")\n",
    "#prop.table(table(data$know_jupyter, useNA = \"always\"))*100#\n",
    "\n",
    "know_jup_frame <- data.frame(table(data$know_jupyter, useNA = \"always\"))\n",
    "know_jup_frame\n"
   ]
  },
  {
   "cell_type": "code",
   "execution_count": null,
   "id": "5098d13b",
   "metadata": {
    "fig.height": 12,
    "fig.width": 15
   },
   "outputs": [],
   "source": [
    "#| fig-align: center\n",
    "# stacked bar chart\n",
    "ggplot(data, aes(x = know_jupyter)) + \n",
    "  geom_bar() +\n",
    "  labs(title = \"Knowing Jupyter\",\n",
    "       subtitle = question_info$question_text[21],\n",
    "       x = \"Answer\",\n",
    "       y = \"Count\") +\n",
    "  theme_classic()\n",
    "\n"
   ]
  },
  {
   "cell_type": "markdown",
   "id": "22fabbf0",
   "metadata": {},
   "source": [
    "# Group Size"
   ]
  },
  {
   "cell_type": "code",
   "execution_count": null,
   "id": "bad328ab",
   "metadata": {
    "error": false,
    "message": false,
    "warning": false
   },
   "outputs": [],
   "source": [
    "# group size\n",
    "data$group_size <- as.numeric(data$group_size)\n",
    "#fivenum(data$group_size)\n",
    "summary(data$group_size)\n"
   ]
  },
  {
   "cell_type": "code",
   "execution_count": null,
   "id": "60b574d7",
   "metadata": {
    "error": false,
    "fig.height": 12,
    "fig.width": 15,
    "message": false,
    "warning": false
   },
   "outputs": [],
   "source": [
    "#| fig-align: center\n",
    "# plot\n",
    "ggplot(data, aes(x = \"Violin\", y = group_size)) +\n",
    "  geom_violin(aes(x = \"Violin\"), fill = \"skyblue\", color = \"black\", width = 0.7) + # Violin\n",
    "  geom_boxplot(aes(x = \"Boxplot\"), fill = \"skyblue\", color = \"black\", width = 0.5) + # Boxplot\n",
    "  labs(\n",
    "    title = \"Violin Plot and Boxplot for Group size\",\n",
    "    subtitle = question_info$question_text[22],\n",
    "    x = \"\",\n",
    "    y = \"Group size\"\n",
    "  ) +\n",
    "  stat_summary(\n",
    "    aes(x = \"Violin\"), fun = \"mean\", geom = \"point\", \n",
    "    shape = 2, size = 3, color = \"red\"\n",
    "  ) +\n",
    "  stat_summary(\n",
    "    aes(x = \"Boxplot\"), fun = \"mean\", geom = \"point\", \n",
    "    shape = 2, size = 3, color = \"red\"\n",
    "  ) +# Mean point for violin\n",
    "  theme_classic()\n"
   ]
  },
  {
   "cell_type": "markdown",
   "id": "26e9ba86",
   "metadata": {},
   "source": [
    "# Dedicated Partners"
   ]
  },
  {
   "cell_type": "code",
   "execution_count": null,
   "id": "b9ceb67c",
   "metadata": {},
   "outputs": [],
   "source": [
    "# dedicated partners\n",
    "#data$have_dedicated_partners\n",
    "dedicated_partner_frame <- data.frame(table(data$have_dedicated_partners,useNA = \"always\"))\n",
    "dedicated_partner_frame\n"
   ]
  },
  {
   "cell_type": "code",
   "execution_count": null,
   "id": "9688a87c",
   "metadata": {
    "error": false,
    "fig.height": 12,
    "fig.width": 15,
    "lines_to_next_cell": 2,
    "message": false
   },
   "outputs": [],
   "source": [
    "#| fig-align: center\n",
    "# stacked bar chart\n",
    "ggplot(data, aes(x = have_dedicated_partners)) + \n",
    "  geom_bar() +\n",
    "  labs(title = \"Dedicated Partners\",\n",
    "       subtitle = question_info$question_text[24],\n",
    "       x = \"Survey Answer\",\n",
    "       y = \"Count\") +\n",
    "  theme_classic()\n",
    "\n"
   ]
  },
  {
   "cell_type": "code",
   "execution_count": null,
   "id": "f9250538",
   "metadata": {},
   "outputs": [],
   "source": [
    "# who is partner\n",
    "data$partner[!is.na(data$partner)]\n"
   ]
  },
  {
   "cell_type": "markdown",
   "id": "49b638d9",
   "metadata": {},
   "source": [
    "# Jupyter Purpose"
   ]
  },
  {
   "cell_type": "code",
   "execution_count": null,
   "id": "a7e9672b",
   "metadata": {
    "message": false,
    "tags": [
     "remove_output"
    ],
    "warning": false
   },
   "outputs": [],
   "source": [
    "invisible(capture.output({\n",
    "table(data$jupyter_purpose_coding_testing_tutorials,useNA = \"always\")\n",
    "prop.table(table(data$jupyter_purpose_coding_testing_tutorials,useNA = \"always\"))*100\n",
    "\n",
    "table(data$jupyter_purpose_heavy_computing_analysis,useNA = \"always\")\n",
    "prop.table(table(data$jupyter_purpose_heavy_computing_analysis,useNA = \"always\"))*100\n",
    "\n",
    "table(data$jupyter_purpose_whenever_possible,useNA = \"always\")\n",
    "prop.table(table(data$jupyter_purpose_whenever_possible,useNA = \"always\"))*100\n",
    "\n",
    "table(data$jupyter_purpose_workshops_training,useNA = \"always\")\n",
    "prop.table(table(data$jupyter_purpose_workshops_training,useNA = \"always\"))*100\n",
    "\n",
    "purpose_frame <- rbind.data.frame(table(data$jupyter_purpose_coding_testing_tutorials,useNA = \"always\"),\n",
    "                                   table(data$jupyter_purpose_heavy_computing_analysis,useNA = \"always\"),\n",
    "                                   table(data$jupyter_purpose_whenever_possible,useNA = \"always\"),\n",
    "                                   table(data$jupyter_purpose_workshops_training,useNA = \"always\"))\n",
    "\n",
    "\n",
    "purpose_frame <- cbind.data.frame(User = c(\"Testing and Tutorials\",\"Heavy Computing and Analysis\",\"Whenever possible\",\"Workshops and Training\"), purpose_frame)\n",
    "colnames(purpose_frame) <- c(\"Purpose\",\"Yes\",\"No\",\"NA\")\n",
    "\n",
    "purpose_frame_long <- tidyr::pivot_longer(\n",
    "  purpose_frame, \n",
    "  cols = c(Yes, No, `NA`), \n",
    "  names_to = \"Response\", \n",
    "  values_to = \"Count\"\n",
    ")\n",
    "\n",
    "}))"
   ]
  },
  {
   "cell_type": "code",
   "execution_count": null,
   "id": "64ae1c55",
   "metadata": {},
   "outputs": [],
   "source": [
    "purpose_frame_long"
   ]
  },
  {
   "cell_type": "code",
   "execution_count": null,
   "id": "09fcd8dd",
   "metadata": {
    "fig.height": 12,
    "fig.width": 15
   },
   "outputs": [],
   "source": [
    "#| fig-align: center\n",
    "# Create the dodged bar graph\n",
    "ggplot(purpose_frame_long, aes(x = Purpose, y = Count, fill = Response)) +\n",
    "  geom_bar(stat = \"identity\", position = position_dodge()) +\n",
    "  labs(\n",
    "    title = \"Jupyter Purpose\",\n",
    "    subtitles = question_info$question_text[26],\n",
    "    x = \"Purpose\",\n",
    "    y = \"Count\",\n",
    "    fill = \"Response\"\n",
    "  ) +\n",
    "  theme_classic() +\n",
    "  theme(axis.text.x = element_text(angle = 45, hjust = 1))\n"
   ]
  },
  {
   "cell_type": "markdown",
   "id": "8d70bfe2",
   "metadata": {},
   "source": [
    "## Other Purposes"
   ]
  },
  {
   "cell_type": "code",
   "execution_count": null,
   "id": "426fb496",
   "metadata": {},
   "outputs": [],
   "source": [
    "\n",
    "data$jupyter_purpose_other[!is.na(data$jupyter_purpose_other)]\n"
   ]
  },
  {
   "cell_type": "markdown",
   "id": "fa93898e",
   "metadata": {},
   "source": [
    "# Current Jupyter Use"
   ]
  },
  {
   "cell_type": "code",
   "execution_count": null,
   "id": "7c880704",
   "metadata": {
    "message": false,
    "tags": [
     "remove_output"
    ],
    "warning": false
   },
   "outputs": [],
   "source": [
    "invisible(capture.output({\n",
    "# current jupyter use\n",
    "table(data$current_jupyter_use_local,useNA = \"always\")\n",
    "prop.table(table(data$current_jupyter_use_local,useNA = \"always\"))*100\n",
    "\n",
    "table(data$current_jupyter_use_remote,useNA = \"always\")\n",
    "prop.table(table(data$current_jupyter_use_remote,useNA = \"always\"))*100\n",
    "\n",
    "table(data$current_jupyter_use_jupyterlite,useNA = \"always\")\n",
    "prop.table(table(data$current_jupyter_use_jupyterlite,useNA = \"always\"))*100\n",
    "\n",
    "table(data$current_jupyter_use_colab,useNA = \"always\")\n",
    "prop.table(table(data$current_jupyter_use_colab,useNA = \"always\"))*100\n",
    "\n",
    "current_use_frame <- rbind.data.frame(table(data$current_jupyter_use_local,useNA = \"always\"),\n",
    "                                  table(data$current_jupyter_use_remote,useNA = \"always\"),\n",
    "                                  table(data$current_jupyter_use_jupyterlite,useNA = \"always\"),\n",
    "                                  table(data$current_jupyter_use_colab,useNA = \"always\"))\n",
    "\n",
    "\n",
    "current_use_frame <- cbind.data.frame(User = c(\"Local\",\"Remote\",\"Jupyterlite\",\"Colab\"), current_use_frame)\n",
    "colnames(current_use_frame) <- c(\"Current Use\",\"Yes\",\"No\",\"NA\")\n",
    "\n",
    "current_use_frame_long <- tidyr::pivot_longer(\n",
    "  current_use_frame, \n",
    "  cols = c(Yes, No, `NA`), \n",
    "  names_to = \"Response\", \n",
    "  values_to = \"Count\"\n",
    ")\n",
    "\n",
    "}))"
   ]
  },
  {
   "cell_type": "code",
   "execution_count": null,
   "id": "f5754525",
   "metadata": {},
   "outputs": [],
   "source": [
    "current_use_frame_long"
   ]
  },
  {
   "cell_type": "code",
   "execution_count": null,
   "id": "56976b5a",
   "metadata": {
    "fig.height": 12,
    "fig.width": 15
   },
   "outputs": [],
   "source": [
    "#| fig-align: center\n",
    "\n",
    "# Create the dodged bar graph\n",
    "ggplot(current_use_frame_long, aes(x = `Current Use`, y = Count, fill = Response)) +\n",
    "  geom_bar(stat = \"identity\", position = position_dodge()) +\n",
    "  labs(\n",
    "    title = \"Current Jupyter Use\",\n",
    "    subtitle = question_info$question_text[27],\n",
    "    x = \"Current Use\",\n",
    "    y = \"Count\",\n",
    "    fill = \"Response\"\n",
    "  ) +\n",
    "  theme_classic() +\n",
    "  theme(axis.text.x = element_text(angle = 45, hjust = 1))"
   ]
  },
  {
   "cell_type": "markdown",
   "id": "14860480",
   "metadata": {},
   "source": [
    "## Other current use"
   ]
  },
  {
   "cell_type": "code",
   "execution_count": null,
   "id": "4ee05069",
   "metadata": {},
   "outputs": [],
   "source": [
    "data$current_jupyter_use_other[!is.na(data$current_jupyter_use_other)]\n"
   ]
  },
  {
   "cell_type": "markdown",
   "id": "ad46de0b",
   "metadata": {},
   "source": [
    "# Jupyter Provider"
   ]
  },
  {
   "cell_type": "code",
   "execution_count": null,
   "id": "57dfc00a",
   "metadata": {},
   "outputs": [],
   "source": [
    "# Jupyter Provider\n",
    "data$jupyter_provider_who[!is.na(data$jupyter_provider_who)]\n"
   ]
  },
  {
   "cell_type": "markdown",
   "id": "318ce2df",
   "metadata": {},
   "source": [
    "# Resource Requirements"
   ]
  },
  {
   "cell_type": "code",
   "execution_count": null,
   "id": "3f46159d",
   "metadata": {
    "message": false,
    "tags": [
     "remove_output"
    ],
    "warning": false
   },
   "outputs": [],
   "source": [
    "invisible(capture.output({\n",
    "# Resource Requirements\n",
    "table(data$resource_requirements_concurrenct_session_average,useNA = \"always\")\n",
    "prop.table(table(data$resource_requirements_concurrenct_session_average,useNA = \"always\"))*100\n",
    "\n",
    "table(data$resource_requirements_concurrent_session_peak,useNA = \"always\")\n",
    "prop.table(table(data$resource_requirements_concurrent_session_peak,useNA = \"always\"))*100\n",
    "\n",
    "table(data$resource_requirements_user_number,useNA = \"always\")\n",
    "prop.table(table(data$resource_requirements_user_number,useNA = \"always\"))*100\n",
    "\n",
    "table(data$resource_requirements_gpus_per_session,useNA = \"always\")\n",
    "prop.table(table(data$resource_requirements_gpus_per_session,useNA = \"always\"))*100\n",
    "\n",
    "table(data$resource_requirements_cpus_per_session,useNA = \"always\")\n",
    "prop.table(table(data$resource_requirements_cpus_per_session,useNA = \"always\"))*100\n",
    "\n",
    "table(data$resource_requirements_ram_per_session,useNA = \"always\")\n",
    "prop.table(table(data$resource_requirements_ram_per_session,useNA = \"always\"))*100\n",
    "\n",
    "table(data$resource_requirements_persistent_storage_per_session,useNA = \"always\")\n",
    "prop.table(table(data$resource_requirements_persistent_storage_per_session,useNA = \"always\"))*100\n",
    "\n",
    "requirements_frame <- rbind.data.frame(table(data$resource_requirements_concurrenct_session_average,useNA = \"always\"),\n",
    "                                      table(data$resource_requirements_concurrent_session_peak,useNA = \"always\"),\n",
    "                                      table(data$resource_requirements_user_number,useNA = \"always\"),\n",
    "                                      table(data$resource_requirements_gpus_per_session,useNA = \"always\"),\n",
    "                                      table(data$resource_requirements_cpus_per_session,useNA = \"always\"),\n",
    "                                      table(data$resource_requirements_ram_per_session,useNA = \"always\"),\n",
    "                                      table(data$resource_requirements_persistent_storage_per_session,useNA = \"always\"))\n",
    "\n",
    "\n",
    "requirements_frame <- cbind.data.frame(User = c(\"Concurrent Session Average\",\"Concurrent Session Peak\",\"User Number\",\"GPUs per Session\",\"CPUS per Session\",\"RAM per Session\",\"Persistent Storage per Session\"), requirements_frame)\n",
    "colnames(requirements_frame) <- c(\"Requirement\",\"Yes\",\"No\",\"NA\")\n",
    "\n",
    "requirements_frame_long <- tidyr::pivot_longer(\n",
    "  requirements_frame, \n",
    "  cols = c(Yes, No, `NA`), \n",
    "  names_to = \"Response\", \n",
    "  values_to = \"Count\"\n",
    ")\n",
    "\n",
    "\n",
    "}))"
   ]
  },
  {
   "cell_type": "code",
   "execution_count": null,
   "id": "807b8872",
   "metadata": {},
   "outputs": [],
   "source": [
    "requirements_frame_long"
   ]
  },
  {
   "cell_type": "code",
   "execution_count": null,
   "id": "3316f272",
   "metadata": {
    "fig.height": 12,
    "fig.width": 15
   },
   "outputs": [],
   "source": [
    "#| fig-align: center\n",
    "\n",
    "# Create the dodged bar graph\n",
    "ggplot(requirements_frame_long, aes(x = Requirement, y = Count, fill = Response)) +\n",
    "  geom_bar(stat = \"identity\", position = position_dodge()) +\n",
    "  labs(\n",
    "    title = \"Requirements\",\n",
    "    subtitle = question_info$question_text[29],\n",
    "    x = \"Requirement\",\n",
    "    y = \"Count\",\n",
    "    fill = \"Response\"\n",
    "  ) +\n",
    "  theme_classic() +\n",
    "  theme(axis.text.x = element_text(angle = 45, hjust = 1))\n"
   ]
  },
  {
   "cell_type": "markdown",
   "id": "bbc5461f",
   "metadata": {},
   "source": [
    "## Requirement Comments"
   ]
  },
  {
   "cell_type": "code",
   "execution_count": null,
   "id": "c391e66c",
   "metadata": {
    "error": false,
    "message": false,
    "tags": [
     "remove_output"
    ],
    "warning": false
   },
   "outputs": [],
   "source": [
    "invisible(capture.output({\n",
    "resource_requirements_concurrenct_session_average_comment <- as.numeric(data$resource_requirements_concurrenct_session_average_comment)\n",
    "resource_requirements_concurrent_session_peak_comment <- as.numeric(data$resource_requirements_concurrent_session_peak_comment)\n",
    "resource_requirements_user_number_comment <- as.numeric(data$resource_requirements_user_number_comment)\n",
    "resource_requirements_gpus_per_session_comment <- as.numeric(data$resource_requirements_gpus_per_session_comment)\n",
    "resource_requirements_cpus_per_session_comment <- as.numeric(data$resource_requirements_cpus_per_session_comment)\n",
    "resource_requirements_ram_per_session_comment <- as.numeric(data$resource_requirements_ram_per_session_comment)\n",
    "resource_requirements_persistent_storage_per_session_comment <- as.numeric(data$resource_requirements_persistent_storage_per_session_comment)\n",
    "\n",
    "resource_frame <- cbind.data.frame(resource_requirements_concurrenct_session_average_comment,\n",
    "                                   resource_requirements_concurrent_session_peak_comment,\n",
    "                                   resource_requirements_user_number_comment,\n",
    "                                   resource_requirements_gpus_per_session_comment,\n",
    "                                   resource_requirements_cpus_per_session_comment,\n",
    "                                   resource_requirements_ram_per_session_comment,\n",
    "                                   resource_requirements_persistent_storage_per_session_comment\n",
    "                                   )\n",
    "\n",
    "\n",
    "}))"
   ]
  },
  {
   "cell_type": "code",
   "execution_count": null,
   "id": "932b9d0b",
   "metadata": {
    "error": false,
    "fig.height": 12,
    "fig.width": 15,
    "message": false,
    "warning": false
   },
   "outputs": [],
   "source": [
    "#| fig-align: center\n",
    "\n",
    "invisible(capture.output({\n",
    "# geom_boxplot\n",
    "summary(resource_frame$resource_requirements_concurrenct_session_average_comment)\n",
    "ggplot(resource_frame, aes(x = resource_requirements_concurrenct_session_average_comment)) + \n",
    "  geom_histogram() +\n",
    "  labs(title = \"Average concurrent Sessions\",\n",
    "       x = \"Survey Answers\",\n",
    "       y = \"Count\") +\n",
    "  theme_classic()\n",
    "\n",
    "# geom_boxplot\n",
    "summary(resource_frame$resource_requirements_concurrent_session_peak_comment)\n",
    "ggplot(resource_frame, aes(x = resource_requirements_concurrent_session_peak_comment)) + \n",
    "  geom_histogram() +\n",
    "  labs(title = \"Peak concurrent Sessions\",\n",
    "       x = \"Survey Answers\",\n",
    "       y = \"Count\") +\n",
    "  theme_classic()\n",
    "\n",
    "# geom_boxplot\n",
    "summary(resource_frame$resource_requirements_user_number_comment)\n",
    "ggplot(resource_frame, aes(x = resource_requirements_user_number_comment)) + \n",
    "  geom_histogram() +\n",
    "  labs(title = \"User numbers\",\n",
    "       x = \"Survey Answers\",\n",
    "       y = \"Count\") +\n",
    "  theme_classic()\n",
    "\n",
    "# geom_boxplot\n",
    "summary(resource_frame$resource_requirements_gpus_per_session_comment)\n",
    "ggplot(resource_frame, aes(x = resource_requirements_gpus_per_session_comment)) + \n",
    "  geom_histogram() +\n",
    "  labs(title = \"GPUS per Session\",\n",
    "       x = \"Survey Answers\",\n",
    "       y = \"Count\") +\n",
    "  theme_classic()\n",
    "\n",
    "# sgeom_boxplot\n",
    "summary(resource_frame$resource_requirements_cpus_per_session_comment)\n",
    "ggplot(resource_frame, aes(x = resource_requirements_cpus_per_session_comment)) + \n",
    "  geom_histogram() +\n",
    "  labs(title = \"CPUs per Session\",\n",
    "       x = \"Survey Answers\",\n",
    "       y = \"Count\") +\n",
    "  theme_classic()\n",
    "\n",
    "# geom_boxplot\n",
    "summary(resource_frame$resource_requirements_ram_per_session_comment)\n",
    "ggplot(resource_frame, aes(x = resource_requirements_ram_per_session_comment)) + \n",
    "  geom_histogram() +\n",
    "  labs(title = \"Dedicated Partners\",\n",
    "       x = \"Survey Answers\",\n",
    "       y = \"Count\") +\n",
    "  theme_classic()\n",
    "\n",
    "# geom_boxplot\n",
    "summary(resource_frame$resource_requirements_persistent_storage_per_session_comment)\n",
    "ggplot(resource_frame, aes(x = resource_requirements_persistent_storage_per_session_comment)) + \n",
    "  geom_histogram() +\n",
    "  labs(title = \"Storage per Session\",\n",
    "       x = \"Survey Answers\",\n",
    "       y = \"Count\") +\n",
    "  theme_classic()\n",
    "\n",
    "\n",
    "\n",
    "}))"
   ]
  },
  {
   "cell_type": "markdown",
   "id": "4d190ada",
   "metadata": {},
   "source": [
    "# Environment Requirements"
   ]
  },
  {
   "cell_type": "code",
   "execution_count": null,
   "id": "193772e0",
   "metadata": {
    "message": false,
    "tags": [
     "remove_output"
    ],
    "warning": false
   },
   "outputs": [],
   "source": [
    "invisible(capture.output({\n",
    "table(data$env_requirements_lab_extension,useNA = \"always\")\n",
    "prop.table(table(data$env_requirements_lab_extension,useNA = \"always\"))*100\n",
    "\n",
    "table(data$env_requirements_software,useNA = \"always\")\n",
    "prop.table(table(data$env_requirements_software,useNA = \"always\"))*100\n",
    "\n",
    "table(data$env_requirements_licenses,useNA = \"always\")\n",
    "prop.table(table(data$env_requirements_licenses,useNA = \"always\"))*100\n",
    "\n",
    "table(data$env_requirements_custom_images,useNA = \"always\")\n",
    "prop.table(table(data$env_requirements_custom_images,useNA = \"always\"))*100\n",
    "\n",
    "env_requirements_frame <- rbind.data.frame(table(data$env_requirements_lab_extension,useNA = \"always\"),\n",
    "                                       table(data$env_requirements_software,useNA = \"always\"),\n",
    "                                       table(data$env_requirements_licenses,useNA = \"always\"),\n",
    "                                       table(data$env_requirements_custom_images,useNA = \"always\"))\n",
    "\n",
    "\n",
    "env_requirements_frame <- cbind.data.frame(User = c(\"Lab Extension\",\"Software\",\"Licenses\",\"Custom Images\"), env_requirements_frame)\n",
    "colnames(env_requirements_frame) <- c(\"Env Requirement\",\"Yes\",\"No\",\"NA\")\n",
    "\n",
    "env_requirements_frame_long <- tidyr::pivot_longer(\n",
    "  env_requirements_frame, \n",
    "  cols = c(Yes, No, `NA`), \n",
    "  names_to = \"Response\", \n",
    "  values_to = \"Count\"\n",
    ")\n",
    "\n",
    "\n",
    "\n",
    "}))"
   ]
  },
  {
   "cell_type": "code",
   "execution_count": null,
   "id": "25a1a029",
   "metadata": {
    "fig.height": 12,
    "fig.width": 15
   },
   "outputs": [],
   "source": [
    "#| fig-align: center\n",
    "#| \n",
    "# Create the dodged bar graph\n",
    "ggplot(env_requirements_frame_long, aes(x = `Env Requirement`, y = Count, fill = Response)) +\n",
    "  geom_bar(stat = \"identity\", position = position_dodge()) +\n",
    "  labs(\n",
    "    title = \"Requirements\",\n",
    "    subtitle = question_info$question_text[30],\n",
    "    x = \"Requirement\",\n",
    "    y = \"Count\",\n",
    "    fill = \"Response\"\n",
    "  ) +\n",
    "  theme_classic() +\n",
    "  theme(axis.text.x = element_text(angle = 45, hjust = 1))\n"
   ]
  },
  {
   "cell_type": "code",
   "execution_count": null,
   "id": "64e2853c",
   "metadata": {},
   "outputs": [],
   "source": [
    "# env reqs comments\n",
    "data$env_requirements_lab_extension_comment[!is.na(data$env_requirements_lab_extension_comment)]\n",
    "data$env_requirements_software_comment[!is.na(data$env_requirements_software_comment)]\n",
    "data$env_requirements_licenses_comment[!is.na(data$env_requirements_licenses_comment)]\n",
    "data$env_requirements_custom_images_comment[!is.na(data$env_requirements_custom_images_comment)]\n"
   ]
  },
  {
   "cell_type": "markdown",
   "id": "0ea7a9c8",
   "metadata": {},
   "source": [
    "# External Data Access"
   ]
  },
  {
   "cell_type": "code",
   "execution_count": null,
   "id": "b2082f77",
   "metadata": {},
   "outputs": [],
   "source": [
    "# External data access\n",
    "data.frame(table(data$external_data_access,useNA = \"always\"))\n"
   ]
  },
  {
   "cell_type": "code",
   "execution_count": null,
   "id": "b6cb9e2c",
   "metadata": {
    "fig.height": 12,
    "fig.width": 15
   },
   "outputs": [],
   "source": [
    "#| fig-align: center\n",
    "\n",
    "# stacked bar chart\n",
    "ggplot(data, aes(x = external_data_access)) + \n",
    "  geom_bar() +\n",
    "  labs(title = \"External Data Access\",\n",
    "       subtitle = question_info$question_text[32],\n",
    "       x = \"Survey Answer\",\n",
    "       y = \"Count\") +\n",
    "  theme_classic() +\n",
    "  theme(axis.text.x = element_text(angle = 45, hjust = 1))\n"
   ]
  },
  {
   "cell_type": "code",
   "execution_count": null,
   "id": "49afd64a",
   "metadata": {},
   "outputs": [],
   "source": [
    "# write access\n",
    "data.frame(table(data$write_access_to_shared_data,useNA = \"always\"))\n"
   ]
  },
  {
   "cell_type": "code",
   "execution_count": null,
   "id": "85cb4e58",
   "metadata": {
    "fig.height": 12,
    "fig.width": 15
   },
   "outputs": [],
   "source": [
    "#| fig-align: center\n",
    "\n",
    "# stacked bar chart\n",
    "ggplot(data, aes(x = write_access_to_shared_data)) + \n",
    "  geom_bar() +\n",
    "  labs(title = \"Access to shared Data\",\n",
    "       subtitle = question_info$question_text[33],\n",
    "       x = \"Survey Answer\",\n",
    "       y = \"Count\") +\n",
    "  theme_classic() +\n",
    "  theme(axis.text.x = element_text(angle = 45, hjust = 1))\n"
   ]
  },
  {
   "cell_type": "code",
   "execution_count": null,
   "id": "8a442e1a",
   "metadata": {},
   "outputs": [],
   "source": [
    "# external_data_sources_link\n",
    "data$external_data_sources_link[!is.na(data$external_data_sources_link)]\n"
   ]
  },
  {
   "cell_type": "markdown",
   "id": "ba072fd8",
   "metadata": {},
   "source": [
    "# Service Offer through Platform"
   ]
  },
  {
   "cell_type": "code",
   "execution_count": null,
   "id": "267907b9",
   "metadata": {},
   "outputs": [],
   "source": [
    "# sservice offer through platform\n",
    "data.frame(table(data$offer_software_service_through_platform,useNA = \"always\"))\n"
   ]
  },
  {
   "cell_type": "code",
   "execution_count": null,
   "id": "4bc8f30e",
   "metadata": {
    "fig.height": 12,
    "fig.width": 15
   },
   "outputs": [],
   "source": [
    "#| fig-align: center\n",
    "\n",
    "# stacked bar chart\n",
    "ggplot(data, aes(x = offer_software_service_through_platform)) + \n",
    "  geom_bar() +\n",
    "  labs(title = \"Offer Service through Software\",\n",
    "       subtitle = question_info$question_text[35],\n",
    "       x = \"Survey Answer\",\n",
    "       y = \"Count\") +\n",
    "  theme_classic() +\n",
    "  theme(axis.text.x = element_text(angle = 45, hjust = 1))\n"
   ]
  },
  {
   "cell_type": "code",
   "execution_count": null,
   "id": "39f8e623",
   "metadata": {},
   "outputs": [],
   "source": [
    "# which software service offer\n",
    "data$which_software_service_offer[!is.na(data$which_software_service_offer)]"
   ]
  },
  {
   "cell_type": "markdown",
   "id": "5daa0ae2",
   "metadata": {},
   "source": [
    "Knowing Binder"
   ]
  },
  {
   "cell_type": "code",
   "execution_count": null,
   "id": "61dc464b",
   "metadata": {},
   "outputs": [],
   "source": [
    "# Knowing Binder\n",
    "data.frame(table(data$know_binder,useNA=\"always\"))\n"
   ]
  },
  {
   "cell_type": "code",
   "execution_count": null,
   "id": "a3990ae1",
   "metadata": {
    "fig.height": 12,
    "fig.width": 15,
    "lines_to_next_cell": 0
   },
   "outputs": [],
   "source": [
    "#| fig-align: center\n",
    "\n",
    "# stacked bar chart\n",
    "ggplot(data, aes(x = know_binder)) + \n",
    "  geom_bar() +\n",
    "  labs(title = \"Knowing Binder\",\n",
    "       subtitle = question_info$question_text[37],\n",
    "       x = \"Survey Answer\",\n",
    "       y = \"Count\") +\n",
    "  theme_classic() +\n",
    "  theme(axis.text.x = element_text(angle = 45, hjust = 1))\n",
    "\n"
   ]
  },
  {
   "cell_type": "markdown",
   "id": "c4990eb7",
   "metadata": {},
   "source": [
    "# Reproducibility needed"
   ]
  },
  {
   "cell_type": "code",
   "execution_count": null,
   "id": "9925dbad",
   "metadata": {},
   "outputs": [],
   "source": [
    "data.frame(table(data$reproducibility_needed, useNA = \"always\"))\n"
   ]
  },
  {
   "cell_type": "code",
   "execution_count": null,
   "id": "78b9f244",
   "metadata": {
    "fig.height": 12,
    "fig.width": 15
   },
   "outputs": [],
   "source": [
    "#| fig-align: center\n",
    "\n",
    "# stacked bar chart\n",
    "ggplot(data, aes(x = reproducibility_needed)) + \n",
    "  geom_bar() +\n",
    "  labs(title = \"Needed Reproducibility\",\n",
    "       subtitle = question_info$question_text[38],\n",
    "       x = \"Survey Answer\",\n",
    "       y = \"Count\") +\n",
    "  theme_classic() +\n",
    "  theme(axis.text.x = element_text(angle = 45, hjust = 1))\n",
    "\n"
   ]
  },
  {
   "cell_type": "markdown",
   "id": "138b7f38",
   "metadata": {},
   "source": [
    "# Knowing Jupyterlite"
   ]
  },
  {
   "cell_type": "code",
   "execution_count": null,
   "id": "95ebe4d0",
   "metadata": {},
   "outputs": [],
   "source": [
    "# knowing jupyterlite\n",
    "data.frame(table(data$know_jupyterlite, useNA = \"always\"))"
   ]
  },
  {
   "cell_type": "code",
   "execution_count": null,
   "id": "2b894a0b",
   "metadata": {
    "fig.height": 12,
    "fig.width": 15
   },
   "outputs": [],
   "source": [
    "#| fig-align: center\n",
    "\n",
    "# stacked bar chart\n",
    "ggplot(data, aes(x = know_jupyterlite)) + \n",
    "  geom_bar() +\n",
    "  labs(title = \"Knowing Jupyterlite\",\n",
    "       subtitle = question_info$question_text[39],\n",
    "       x = \"Survey Answer\",\n",
    "       y = \"Count\") +\n",
    "  theme_classic() +\n",
    "  theme(axis.text.x = element_text(angle = 45, hjust = 1))\n",
    "\n",
    "\n"
   ]
  },
  {
   "cell_type": "markdown",
   "id": "6a4fa0f6",
   "metadata": {},
   "source": [
    "# Knowing Google Colab"
   ]
  },
  {
   "cell_type": "code",
   "execution_count": null,
   "id": "e172924b",
   "metadata": {},
   "outputs": [],
   "source": [
    "# knowing Colab\n",
    "data.frame(table(data$know_colab, useNA = \"always\"))\n"
   ]
  },
  {
   "cell_type": "code",
   "execution_count": null,
   "id": "cdd5854f",
   "metadata": {
    "fig.height": 12,
    "fig.width": 15
   },
   "outputs": [],
   "source": [
    "#| fig-align: center\n",
    "\n",
    "# stacked bar chart\n",
    "ggplot(data, aes(x = know_colab)) + \n",
    "  geom_bar() +\n",
    "  labs(title = \"Knowing Colab\",\n",
    "       subtitle = question_info$question_text[40],\n",
    "       x = \"Survey Answer\",\n",
    "       y = \"Count\") +\n",
    "  theme_classic() +\n",
    "  theme(axis.text.x = element_text(angle = 45, hjust = 1))\n",
    "\n"
   ]
  },
  {
   "cell_type": "markdown",
   "id": "c9795cfb",
   "metadata": {},
   "source": [
    "# Interest in other Services"
   ]
  },
  {
   "cell_type": "code",
   "execution_count": null,
   "id": "f93a302c",
   "metadata": {},
   "outputs": [],
   "source": [
    "table(data$interest_in_other_service_vscode,useNA = \"always\")\n",
    "prop.table(table(data$interest_in_other_service_vscode,useNA = \"always\"))*100\n",
    "\n",
    "table(data$interest_in_other_service_rstudio,useNA = \"always\")\n",
    "prop.table(table(data$interest_in_other_service_rstudio,useNA = \"always\"))*100\n",
    "\n",
    "other_interest_frame <- rbind.data.frame(table(data$interest_in_other_service_vscode,useNA = \"always\"),\n",
    "                                           table(data$interest_in_other_service_rstudio,useNA = \"always\"))\n",
    "\n",
    "\n",
    "other_interest_frame <- cbind.data.frame(Service = c(\"VScode\",\"RStudio\"), other_interest_frame)\n",
    "colnames(other_interest_frame) <- c(\"Service\",\"Yes\",\"No\",\"NA\")\n",
    "\n",
    "other_interest_frame_long <- tidyr::pivot_longer(\n",
    "  other_interest_frame, \n",
    "  cols = c(Yes, No, `NA`), \n",
    "  names_to = \"Response\", \n",
    "  values_to = \"Count\"\n",
    ")\n"
   ]
  },
  {
   "cell_type": "code",
   "execution_count": null,
   "id": "fb65ae91",
   "metadata": {},
   "outputs": [],
   "source": [
    "other_interest_frame_long\n"
   ]
  },
  {
   "cell_type": "code",
   "execution_count": null,
   "id": "f5760f11",
   "metadata": {
    "fig.height": 12,
    "fig.width": 15
   },
   "outputs": [],
   "source": [
    "#| fig-align: center\n",
    "\n",
    "# Create the dodged bar graph\n",
    "ggplot(other_interest_frame_long, aes(x = Service, y = Count, fill = Response)) +\n",
    "  geom_bar(stat = \"identity\", position = position_dodge()) +\n",
    "  labs(\n",
    "    title = \"Other services interest\",\n",
    "    subtitle = question_info$question_text[43],\n",
    "    x = \"Service\",\n",
    "    y = \"Count\",\n",
    "    fill = \"Response\"\n",
    "  ) +\n",
    "  theme_classic() +\n",
    "  theme(axis.text.x = element_text(angle = 45, hjust = 1))\n"
   ]
  },
  {
   "cell_type": "code",
   "execution_count": null,
   "id": "e1348b0a",
   "metadata": {
    "lines_to_next_cell": 0
   },
   "outputs": [],
   "source": [
    "# Other service interest\n",
    "data$interest_in_other_service_other[!is.na(data$interest_in_other_service_other)]"
   ]
  },
  {
   "cell_type": "markdown",
   "id": "8ba58cd6",
   "metadata": {},
   "source": [
    "\n"
   ]
  },
  {
   "cell_type": "code",
   "execution_count": null,
   "id": "a60d3651",
   "metadata": {
    "fig.height": 12,
    "fig.width": 15
   },
   "outputs": [],
   "source": [
    "#| fig-align: center\n",
    "\n",
    "# Create the dodged bar graph\n",
    "ggplot(other_interest_frame_long, aes(x = Service, y = Count, fill = Response)) +\n",
    "  geom_bar(stat = \"identity\", position = position_dodge()) +\n",
    "  labs(\n",
    "    title = \"Other services interest\",\n",
    "    subtitle = question_info$question_text[43],\n",
    "    x = \"Service\",\n",
    "    y = \"Count\",\n",
    "    fill = \"Response\"\n",
    "  ) +\n",
    "  theme_classic() +\n",
    "  theme(axis.text.x = element_text(angle = 45, hjust = 1))\n"
   ]
  },
  {
   "cell_type": "markdown",
   "id": "27e181c3",
   "metadata": {},
   "source": [
    "# Further Contact"
   ]
  },
  {
   "cell_type": "code",
   "execution_count": null,
   "id": "37702097",
   "metadata": {},
   "outputs": [],
   "source": [
    "# further contact\n",
    "#data$further_contact\n",
    "#table(data$further_contact,useNA = \"always\")\n",
    "#prop.table(table(data$further_contact,useNA = \"always\"))*100\n",
    "data.frame(table(data$further_contact,useNA = \"always\"))"
   ]
  },
  {
   "cell_type": "code",
   "execution_count": null,
   "id": "28e402dd",
   "metadata": {
    "fig.height": 12,
    "fig.width": 15
   },
   "outputs": [],
   "source": [
    "#| fig-align: center\n",
    "\n",
    "# stacked bar chart\n",
    "ggplot(data, aes(x = further_contact)) + \n",
    "  geom_bar() +\n",
    "  labs(title = \"Further contact?\",\n",
    "       subtitle = question_info$question_text[44],\n",
    "       x = \"Survey Answer\",\n",
    "       y = \"Count\") +\n",
    "  theme_classic() +\n",
    "  theme(axis.text.x = element_text(angle = 45, hjust = 1))\n",
    "\n"
   ]
  },
  {
   "cell_type": "markdown",
   "id": "cdbba80a",
   "metadata": {},
   "source": [
    "# User Study Willingness"
   ]
  },
  {
   "cell_type": "code",
   "execution_count": null,
   "id": "de1f4b78",
   "metadata": {},
   "outputs": [],
   "source": [
    "# user study willingness\n",
    "#data$user_study_willingness\n",
    "#table(data$user_study_willingness,useNA = \"always\")\n",
    "#prop.table(table(data$user_study_willingness,useNA = \"always\"))*100\n",
    "data.frame(table(data$user_study_willingness,useNA = \"always\"))\n"
   ]
  },
  {
   "cell_type": "code",
   "execution_count": null,
   "id": "d9e35ccf",
   "metadata": {
    "fig.height": 12,
    "fig.width": 15
   },
   "outputs": [],
   "source": [
    "#| fig-align: center\n",
    "\n",
    "question_info$question_text[48]\n",
    "q_text2 <- \"Would you be willing to participate in a user study? By participating in a user study?\"\n",
    "\n",
    "# stacked bar chart\n",
    "ggplot(data, aes(x = user_study_willingness)) + \n",
    "  geom_bar() +\n",
    "  labs(title = \"User study willingness\",\n",
    "       subtitle = q_text2,\n",
    "       x = \"Survey Answer\",\n",
    "       y = \"Count\") +\n",
    "  theme_classic() +\n",
    "  theme(axis.text.x = element_text(angle = 45, hjust = 1))\n"
   ]
  },
  {
   "cell_type": "markdown",
   "id": "bf62e697",
   "metadata": {},
   "source": [
    "# Open ended Questions\n",
    "\n",
    "<div class=\"alert alert-info\" role=\"alert\">\n",
    "  <strong>LLM-supported analysis of open-ended questions</strong><br>\n",
    "  We provide code and results here for analyzing open-ended survey responses using the ChatGPT API. Because the API requires an API key, we cannot provide a ready-to-run code example here. If you have an OpenAI API key, you can paste it here, uncomment the corresponding code lines, and rerun them. We do provide the results of us running the code here.\n",
    "</div>\n"
   ]
  },
  {
   "cell_type": "code",
   "execution_count": null,
   "id": "b3a016e8",
   "metadata": {
    "name": "importing key"
   },
   "outputs": [],
   "source": [
    "# TODO: To execute remotely, replace with your own API key for chatGPT\n",
    "api_key <- \"OPENAI_API_KEY\""
   ]
  },
  {
   "cell_type": "code",
   "execution_count": null,
   "id": "80182072",
   "metadata": {
    "name": "chatgpt_api_function"
   },
   "outputs": [],
   "source": [
    "send_chatgpt_request <- function(prompt, api_key, max_toks = 5000, temp = 0.0) {\n",
    "  url <- \"https://api.openai.com/v1/chat/completions\"\n",
    "  \n",
    "  headers <- add_headers(\n",
    "    `Authorization` = paste(\"Bearer\", api_key),\n",
    "    `Content-Type` = \"application/json\"\n",
    "  )\n",
    "  \n",
    "  body <- list(\n",
    "    model = \"gpt-4o\", \n",
    "    messages = list(\n",
    "      list(role = \"system\", content = \"You are a helpful assistant.\"),\n",
    "      list(role = \"user\", content = prompt)\n",
    "    ),\n",
    "    temperature = temp, \n",
    "    max_tokens = max_toks \n",
    "  )\n",
    "  \n",
    "  response <- POST(url, headers, body = body, encode = \"json\")\n",
    "  \n",
    "  if (status_code(response) == 200) {\n",
    "    content <- content(response, as = \"parsed\")\n",
    "    return(content$choices[[1]]$message$content)\n",
    "  } else {\n",
    "    stop(\"Request failed: \", status_code(response), \"\\n\", content(response, as = \"text\"))\n",
    "  }\n",
    "}\n"
   ]
  },
  {
   "cell_type": "markdown",
   "id": "5b51e6af",
   "metadata": {},
   "source": [
    "## How is Jupyter used"
   ]
  },
  {
   "cell_type": "code",
   "execution_count": null,
   "id": "701da04b",
   "metadata": {
    "lines_to_next_cell": 2
   },
   "outputs": [],
   "source": [
    "data$jupyter_use_how[!is.na(data$jupyter_use_how)]\n",
    "answer_collection <- paste(data$jupyter_use_how[!is.na(data$jupyter_use_how)],collapse = \" | \")"
   ]
  },
  {
   "cell_type": "code",
   "execution_count": null,
   "id": "db9918cf",
   "metadata": {},
   "outputs": [],
   "source": [
    "# send request\n",
    "#jupyter_use_how_summary <- send_chatgpt_request(paste(\"Attached, you will find survey answers to an open ended question about how participants are currently using #Jupyter. Answers are separated by a ` | `. Summarize the main themes from these answers: \", answer_collection),\n",
    "#                                                 api_key,\n",
    "#                                                 max_toks = 5000,\n",
    "#                                                 temp = 0.0)\n"
   ]
  },
  {
   "cell_type": "code",
   "execution_count": null,
   "id": "ab6cb0e8",
   "metadata": {
    "name": "printing-response"
   },
   "outputs": [],
   "source": [
    "#message(jupyter_use_how_summary)"
   ]
  },
  {
   "cell_type": "markdown",
   "id": "e85c6ea6",
   "metadata": {},
   "source": [
    "The survey responses reveal several key themes regarding the use of Jupyter:\n",
    "\n",
    "1. **Data Analysis and Visualization**: Many respondents use Jupyter for data analysis, often in conjunction with Python and R. This includes processing geospatial, genomic, transcriptomic, and experimental data, as well as neutron and X-ray measurements. Visualization tools like Plotly are also mentioned.\n",
    "\n",
    "2. **Education and Teaching**: Jupyter is widely used in educational settings, from teaching university courses to providing hands-on learning opportunities through data analysis courses. It is used for teaching programming, data science, and specific scientific domains.\n",
    "\n",
    "3. **Prototyping and Development**: Jupyter is frequently used for quick prototyping and exploratory coding. It allows users to rapidly script code and develop data analysis solutions.\n",
    "\n",
    "4. **Collaboration and Sharing**: Jupyter facilitates collaboration by enabling easy sharing of notebooks and workflows. It is used to discuss and share analysis results with colleagues and partners.\n",
    "\n",
    "5. **Infrastructure and Deployment**: Several institutions deploy JupyterHub or similar services to provide a compute environment for users. This includes hosting on Kubernetes, OpenShift, and other cloud or local infrastructures.\n",
    "\n",
    "6. **Domain-Specific Applications**: Jupyter is used in various domain-specific applications, such as energy system design, machine learning pipelines for pulsar analysis, cheminformatics workflows, and computational chemistry.\n",
    "\n",
    "7. **Integration with Other Tools**: Jupyter is integrated with other tools and environments, such as Google Colab, Galaxy, and ArcGIS Notebookserver. It supports multiple programming languages and can serve as a general login hub for web-based services.\n",
    "\n",
    "8. **Challenges and Future Plans**: Some respondents mention challenges in accessing Jupyter or not currently using it but planning to adopt it for future projects. There is interest in exploring Jupyter's potential for enhancing workflows and promoting reproducible research.\n",
    "\n",
    "Overall, Jupyter is a versatile tool used across various fields for data analysis, education, prototyping, and collaboration, supported by robust infrastructure and integration capabilities.\n",
    "\n",
    "## Expected benefits of jupyter4NFDI"
   ]
  },
  {
   "cell_type": "code",
   "execution_count": null,
   "id": "457b3026",
   "metadata": {},
   "outputs": [],
   "source": [
    "# Expected Benefits of Jupyter4NFDI\n",
    "data$jupyter_nfdi_expected_benefits[!is.na(data$jupyter_nfdi_expected_benefits)]\n",
    "answer_collection <- data$jupyter_nfdi_expected_benefits[!is.na(data$jupyter_nfdi_expected_benefits)]\n",
    "answer_collection <- paste(answer_collection,collapse = \" | \")\n"
   ]
  },
  {
   "cell_type": "code",
   "execution_count": null,
   "id": "8a1662b0",
   "metadata": {},
   "outputs": [],
   "source": [
    "# send request\n",
    "#jupyter_NFDI_benefits_summary <- send_chatgpt_request(paste(\"Attached, you will find survey answers to an open ended question about the expected benefits of using the #Jupyter NFDI Hub. Answers are separated by a ` | `. Summarize the main themes from these answers: \", answer_collection),\n",
    "#                                                       api_key,\n",
    "#                                                       max_toks = 5000,\n",
    "#                                                       temp = 0.0)"
   ]
  },
  {
   "cell_type": "code",
   "execution_count": null,
   "id": "0411891d",
   "metadata": {},
   "outputs": [],
   "source": [
    "#message(jupyter_NFDI_benefits_summary)"
   ]
  },
  {
   "cell_type": "markdown",
   "id": "1e90673a",
   "metadata": {},
   "source": [
    "The survey responses highlight several key themes regarding the expected benefits of using the Jupyter NFDI Hub:\n",
    "\n",
    "1. **Access and Integration**: Many respondents see value in having access to a JupyterHub instance for both research and teaching purposes. There is also an emphasis on the ability to integrate and share tools in a FAIR (Findable, Accessible, Interoperable, and Reusable) manner, as well as using existing community tools on their own data.\n",
    "\n",
    "2. **Ease of Use and Setup**: A significant benefit mentioned is the reduced need for individual setup, which simplifies the process for users.\n",
    "\n",
    "3. **Support for Software Development**: The hub is seen as beneficial for software developers and scientists, particularly in facilitating the running, testing, and application of code and notebooks. This is especially relevant when data sharing and transfer are linked to compute resources.\n",
    "\n",
    "4. **Inspiration and Connectivity**: The hub could serve as a source of inspiration for facilities to develop their own Jupyter services and as a starting point for integration with the NFDI.\n",
    "\n",
    "5. **Security and HPC Concerns**: There are concerns about the use of Jupyter in high-performance computing (HPC) centers due to security issues, indicating a need for alternative solutions for HPC access.\n",
    "\n",
    "6. **Support and Facilitation**: There is a desire for a service desk or support system to address specific questions that cannot be resolved through automated agents like ChatGPT.\n",
    "\n",
    "7. **Technical Enhancements**: Respondents express a need for a simplified and more secure setup for in-house JupyterHub instances, with specific mention of first-class SLURM support.\n",
    "\n",
    "Overall, the responses reflect a mix of enthusiasm for the potential benefits of the Jupyter NFDI Hub, alongside concerns about security and the need for robust support and integration features.\n",
    "\n",
    "## Jupyter4NFDI Advantages over other services"
   ]
  },
  {
   "cell_type": "code",
   "execution_count": null,
   "id": "8a7f1c91",
   "metadata": {},
   "outputs": [],
   "source": [
    "# JupyterNFDI advantages over others\n",
    "data$jupyter4NFDI_advantages_over_others[!is.na(data$jupyter4NFDI_advantages_over_others)]\n",
    "answer_collection <- data$jupyter4NFDI_advantages_over_others[!is.na(data$jupyter4NFDI_advantages_over_others)]\n",
    "answer_collection <- paste(answer_collection,collapse = \" | \")"
   ]
  },
  {
   "cell_type": "code",
   "execution_count": null,
   "id": "22588e60",
   "metadata": {},
   "outputs": [],
   "source": [
    "# send request\n",
    "#jupyter_NFDI_advantages_summary <- send_chatgpt_request(paste(\"Attached, you will find survey answers to an open ended question about the advanatages of Jupyter4NFDI #over other similar services. Answers are separated by a ` | `. Summarize the main themes from these answers: \", answer_collection),\n",
    "#                                                      api_key,\n",
    "#                                                      max_toks = 5000,\n",
    "#                                                      temp = 0.0)"
   ]
  },
  {
   "cell_type": "code",
   "execution_count": null,
   "id": "23fd0658",
   "metadata": {},
   "outputs": [],
   "source": [
    "#message(jupyter_NFDI_advantages_summary)"
   ]
  },
  {
   "cell_type": "markdown",
   "id": "cafd63f8",
   "metadata": {},
   "source": [
    "The survey responses highlight several key advantages of Jupyter4NFDI over other similar services:\n",
    "\n",
    "1. **Resource Flexibility and Allocation**: Jupyter4NFDI offers flexible allocation of resources, including large GPUs and RAM, which is beneficial for specific use cases and selected users. This is contrasted with limitations in other platforms like Colab and Binder.\n",
    "\n",
    "2. **Performance and Efficiency**: Users noted that Jupyter4NFDI is faster than Binder, especially in terms of startup time, and more powerful than JupyterLite.\n",
    "\n",
    "3. **Security and Privacy**: The platform is perceived as more secure and private than alternatives like Colab, with a focus on data security, digital sovereignty, and GDPR compliance.\n",
    "\n",
    "4. **Collaboration and Integration**: Jupyter4NFDI facilitates safe and easy collaboration within and across NFDI consortia. It also offers easy connections to tools and data specific to PUNCH4NFDI and other digital services, enhancing integration and data autonomy.\n",
    "\n",
    "5. **Institutional Support and Customization**: The platform provides institutional control and support, allowing for customization to meet specific teaching and research requirements. It interfaces well with learning management systems (LMS) and institutional data repositories.\n",
    "\n",
    "6. **Unified Platform for NFDI**: Jupyter4NFDI serves as a single platform that unifies the work and knowledge of NFDI consortia, enabling collaboration, workflow adaptation, and knowledge sharing.\n",
    "\n",
    "7. **Ease of Use and Maintenance**: Users appreciate the lower maintenance overhead and the predefined environments for courses and teaching, which are beneficial for people from various universities and research institutes.\n",
    "\n",
    "8. **Data Access and FAIR Principles**: The platform provides easy and direct access to research data, supports the publication and reproduction of research workflows, and offers guidance for creating FAIR (Findable, Accessible, Interoperable, Reusable) outputs.\n",
    "\n",
    "Overall, Jupyter4NFDI is valued for its resource flexibility, performance, security, collaborative capabilities, institutional support, and alignment with FAIR principles.\n",
    "\n",
    "## Jupyter4NFDI Missing Features"
   ]
  },
  {
   "cell_type": "code",
   "execution_count": null,
   "id": "3a7baa21",
   "metadata": {},
   "outputs": [],
   "source": [
    "# Jupyter4NFDI missing\n",
    "data$jupyter4NFDI_missing[!is.na(data$jupyter4NFDI_missing)]\n",
    "answer_collection <- data$jupyter4NFDI_missing[!is.na(data$jupyter4NFDI_missing)]\n",
    "answer_collection <- paste(answer_collection,collapse = \" | \")\n"
   ]
  },
  {
   "cell_type": "code",
   "execution_count": null,
   "id": "f39ba4e4",
   "metadata": {},
   "outputs": [],
   "source": [
    "# send request\n",
    "#jupyter_NFDI_missing_summary <- send_chatgpt_request(paste(\"Attached, you will find survey answers to an open ended question about whats still missing from the #Jupyter4NFDI. Answers are separated by a ` | `. Summarize the main themes from these answers: \", answer_collection),\n",
    "#                                                        api_key,\n",
    "#                                                        max_toks = 5000,\n",
    "#                                                        temp = 0.0)"
   ]
  },
  {
   "cell_type": "code",
   "execution_count": null,
   "id": "6fdb7bf1",
   "metadata": {
    "lines_to_next_cell": 2
   },
   "outputs": [],
   "source": [
    "#message(jupyter_NFDI_missing_summary)"
   ]
  },
  {
   "cell_type": "markdown",
   "id": "69dd5410",
   "metadata": {},
   "source": [
    "The survey responses highlight several key themes regarding what is still missing from Jupyter4NFDI:\n",
    "\n",
    "1. **Examples and Documentation**: There is a need for a comprehensive collection of examples that demonstrate the capabilities of Jupyter, JupyterHub, JupyterLite, and Jupyter4NFDI. This would help users understand the potential applications and functionalities of these tools.\n",
    "\n",
    "2. **Package Management**: Users desire a simplified method for installing additional packages, akin to a \"package shop,\" to enhance usability and accessibility.\n",
    "\n",
    "3. **Integration with Other Platforms**: Integration with platforms like Galaxy is requested to facilitate workflow scheduling and data import, which would enhance the interoperability of Jupyter4NFDI with other research tools.\n",
    "\n",
    "4. **Community and Support**: There is a call for community features that allow for discussion, support, and collaboration among users. This would help users share knowledge and solve problems collectively.\n",
    "\n",
    "5. **Collaboration and Reproducibility**: An easy way to collaborate on projects is needed. Additionally, there is interest in enabling researchers to publish datasets and workflows on the NFDI infrastructure, allowing others to reproduce research findings. Proper documentation of datasets and workflows is also emphasized.\n",
    "\n",
    "6. **Technical Support and Troubleshooting**: Some users have experienced difficulties installing specific packages (e.g., PyPSA, pandapower) and have been unable to find solutions, indicating a need for better technical support and troubleshooting resources."
   ]
  },
  {
   "cell_type": "markdown",
   "id": "b9a1c6f9",
   "metadata": {},
   "source": [
    "## Additional Information"
   ]
  },
  {
   "cell_type": "code",
   "execution_count": null,
   "id": "d3c91f74",
   "metadata": {},
   "outputs": [],
   "source": [
    "# additional info\n",
    "data$additional_info[!is.na(data$additional_info)]\n",
    "answer_collection <- data$additional_info[!is.na(data$additional_info)]\n",
    "answer_collection <- paste(answer_collection,collapse = \" | \")\n"
   ]
  },
  {
   "cell_type": "code",
   "execution_count": null,
   "id": "9466b327",
   "metadata": {},
   "outputs": [],
   "source": [
    "# send request\n",
    "#additional_info_summary <- send_chatgpt_request(paste(\"Attached, you will find survey answers to an open ended question about what additional information people would #like to have about Jupyter4NFDI. Answers are separated by a ` | `. Summarize the main themes from these answers: \", answer_collection),\n",
    "#                                                     api_key,\n",
    "#                                                     max_toks = 5000,\n",
    "#                                                     temp = 0.0)"
   ]
  },
  {
   "cell_type": "code",
   "execution_count": null,
   "id": "dd456c18",
   "metadata": {},
   "outputs": [],
   "source": [
    "#message(additional_info_summary)"
   ]
  },
  {
   "cell_type": "markdown",
   "id": "965618c0",
   "metadata": {},
   "source": [
    "The survey responses reveal several key themes regarding the information people would like about Jupyter4NFDI:\n",
    "\n",
    "1. **Infrastructure and Resource Use**: There is interest in understanding the use of federated compute infrastructures and whether Jupyter4NFDI utilizes platforms like de.NBI or de.KCD. Respondents are curious about the current infrastructure and any future changes in resource sharing.\n",
    "\n",
    "2. **Technical Features and Availability**: Some respondents noted the lack of kernels in the default image on the Jupyter hub, indicating a need for more information on available technical features and tools.\n",
    "\n",
    "3. **Training Materials**: There is a desire for information on the availability, location, and sustainability of training materials. Respondents want to know how these materials are maintained and updated to keep pace with technological changes.\n",
    "\n",
    "4. **Security Concerns**: Information about the security of sharing and accessing local data through Jupyter notebooks is a concern for some users.\n",
    "\n",
    "5. **Support and Feedback Mechanisms**: Respondents are interested in knowing how to report bugs and provide feedback on the platform.\n",
    "\n",
    "6. **General Updates and Communication**: Some responses indicate a need for ongoing communication about the commissioning of infrastructure and potential changes that may arise from user studies or other developments."
   ]
  }
 ],
 "metadata": {
  "jupytext": {
   "cell_metadata_filter": "message,tags,warning,error,fig.width,echo,results,fig.height,name,-all",
   "main_language": "R",
   "notebook_metadata_filter": "-all"
  }
 },
 "nbformat": 4,
 "nbformat_minor": 5
}
